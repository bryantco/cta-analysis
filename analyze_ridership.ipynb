{
 "cells": [
  {
   "cell_type": "code",
   "execution_count": 1,
   "metadata": {},
   "outputs": [],
   "source": [
    "import os\n",
    "import polars as pl\n",
    "\n",
    "os.chdir(os.getcwd())"
   ]
  },
  {
   "cell_type": "code",
   "execution_count": 2,
   "metadata": {},
   "outputs": [],
   "source": [
    "ridership_df = pl.read_csv('data/CTA_-_Ridership_-__L__Station_Entries_-_Daily_Totals_20250203.csv')"
   ]
  },
  {
   "cell_type": "code",
   "execution_count": 3,
   "metadata": {},
   "outputs": [
    {
     "data": {
      "text/html": [
       "<div><style>\n",
       ".dataframe > thead > tr,\n",
       ".dataframe > tbody > tr {\n",
       "  text-align: right;\n",
       "  white-space: pre-wrap;\n",
       "}\n",
       "</style>\n",
       "<small>shape: (10, 5)</small><table border=\"1\" class=\"dataframe\"><thead><tr><th>station_id</th><th>stationname</th><th>date</th><th>daytype</th><th>rides</th></tr><tr><td>i64</td><td>str</td><td>str</td><td>str</td><td>i64</td></tr></thead><tbody><tr><td>41280</td><td>&quot;Jefferson Park&quot;</td><td>&quot;12/22/2017&quot;</td><td>&quot;W&quot;</td><td>6104</td></tr><tr><td>41000</td><td>&quot;Cermak-Chinatown&quot;</td><td>&quot;12/18/2017&quot;</td><td>&quot;W&quot;</td><td>3636</td></tr><tr><td>40280</td><td>&quot;Central-Lake&quot;</td><td>&quot;12/02/2017&quot;</td><td>&quot;A&quot;</td><td>1270</td></tr><tr><td>40140</td><td>&quot;Dempster-Skokie&quot;</td><td>&quot;12/19/2017&quot;</td><td>&quot;W&quot;</td><td>1759</td></tr><tr><td>40690</td><td>&quot;Dempster&quot;</td><td>&quot;12/03/2017&quot;</td><td>&quot;U&quot;</td><td>499</td></tr><tr><td>41660</td><td>&quot;Lake/State&quot;</td><td>&quot;12/30/2017&quot;</td><td>&quot;A&quot;</td><td>8615</td></tr><tr><td>40180</td><td>&quot;Oak Park-Forest Park&quot;</td><td>&quot;12/17/2017&quot;</td><td>&quot;U&quot;</td><td>442</td></tr><tr><td>40250</td><td>&quot;Kedzie-Homan-Forest Park&quot;</td><td>&quot;12/02/2017&quot;</td><td>&quot;A&quot;</td><td>1353</td></tr><tr><td>40120</td><td>&quot;35th/Archer&quot;</td><td>&quot;12/07/2017&quot;</td><td>&quot;W&quot;</td><td>3353</td></tr><tr><td>41420</td><td>&quot;Addison-North Main&quot;</td><td>&quot;12/19/2017&quot;</td><td>&quot;W&quot;</td><td>6034</td></tr></tbody></table></div>"
      ],
      "text/plain": [
       "shape: (10, 5)\n",
       "┌────────────┬──────────────────────────┬────────────┬─────────┬───────┐\n",
       "│ station_id ┆ stationname              ┆ date       ┆ daytype ┆ rides │\n",
       "│ ---        ┆ ---                      ┆ ---        ┆ ---     ┆ ---   │\n",
       "│ i64        ┆ str                      ┆ str        ┆ str     ┆ i64   │\n",
       "╞════════════╪══════════════════════════╪════════════╪═════════╪═══════╡\n",
       "│ 41280      ┆ Jefferson Park           ┆ 12/22/2017 ┆ W       ┆ 6104  │\n",
       "│ 41000      ┆ Cermak-Chinatown         ┆ 12/18/2017 ┆ W       ┆ 3636  │\n",
       "│ 40280      ┆ Central-Lake             ┆ 12/02/2017 ┆ A       ┆ 1270  │\n",
       "│ 40140      ┆ Dempster-Skokie          ┆ 12/19/2017 ┆ W       ┆ 1759  │\n",
       "│ 40690      ┆ Dempster                 ┆ 12/03/2017 ┆ U       ┆ 499   │\n",
       "│ 41660      ┆ Lake/State               ┆ 12/30/2017 ┆ A       ┆ 8615  │\n",
       "│ 40180      ┆ Oak Park-Forest Park     ┆ 12/17/2017 ┆ U       ┆ 442   │\n",
       "│ 40250      ┆ Kedzie-Homan-Forest Park ┆ 12/02/2017 ┆ A       ┆ 1353  │\n",
       "│ 40120      ┆ 35th/Archer              ┆ 12/07/2017 ┆ W       ┆ 3353  │\n",
       "│ 41420      ┆ Addison-North Main       ┆ 12/19/2017 ┆ W       ┆ 6034  │\n",
       "└────────────┴──────────────────────────┴────────────┴─────────┴───────┘"
      ]
     },
     "execution_count": 3,
     "metadata": {},
     "output_type": "execute_result"
    }
   ],
   "source": [
    "ridership_df.head(10)"
   ]
  },
  {
   "cell_type": "code",
   "execution_count": 7,
   "metadata": {},
   "outputs": [
    {
     "ename": "SchemaError",
     "evalue": "invalid series dtype: expected `String`, got `date` for series with name `date`",
     "output_type": "error",
     "traceback": [
      "\u001b[1;31m---------------------------------------------------------------------------\u001b[0m",
      "\u001b[1;31mSchemaError\u001b[0m                               Traceback (most recent call last)",
      "Input \u001b[1;32mIn [7]\u001b[0m, in \u001b[0;36m<cell line: 2>\u001b[1;34m()\u001b[0m\n\u001b[0;32m      1\u001b[0m \u001b[38;5;66;03m# Generate int columns for year, month, and day from the date column\u001b[39;00m\n\u001b[1;32m----> 2\u001b[0m ridership_df \u001b[38;5;241m=\u001b[39m \u001b[43mridership_df\u001b[49m\u001b[38;5;241;43m.\u001b[39;49m\u001b[43mwith_columns\u001b[49m\u001b[43m(\u001b[49m\n\u001b[0;32m      3\u001b[0m \u001b[43m    \u001b[49m\u001b[43mpl\u001b[49m\u001b[38;5;241;43m.\u001b[39;49m\u001b[43mcol\u001b[49m\u001b[43m(\u001b[49m\u001b[38;5;124;43m'\u001b[39;49m\u001b[38;5;124;43mdate\u001b[39;49m\u001b[38;5;124;43m'\u001b[39;49m\u001b[43m)\u001b[49m\u001b[38;5;241;43m.\u001b[39;49m\u001b[43mstr\u001b[49m\u001b[38;5;241;43m.\u001b[39;49m\u001b[43mto_date\u001b[49m\u001b[43m(\u001b[49m\u001b[38;5;124;43m'\u001b[39;49m\u001b[38;5;124;43m%\u001b[39;49m\u001b[38;5;124;43mm/\u001b[39;49m\u001b[38;5;132;43;01m%d\u001b[39;49;00m\u001b[38;5;124;43m/\u001b[39;49m\u001b[38;5;124;43m%\u001b[39;49m\u001b[38;5;124;43mY\u001b[39;49m\u001b[38;5;124;43m'\u001b[39;49m\u001b[43m)\u001b[49m\n\u001b[0;32m      4\u001b[0m \u001b[43m)\u001b[49m\n\u001b[0;32m      6\u001b[0m ridership_df \u001b[38;5;241m=\u001b[39m ridership_df\u001b[38;5;241m.\u001b[39mwith_columns(\n\u001b[0;32m      7\u001b[0m     year\u001b[38;5;241m=\u001b[39mpl\u001b[38;5;241m.\u001b[39mcol(\u001b[38;5;124m'\u001b[39m\u001b[38;5;124mdate\u001b[39m\u001b[38;5;124m'\u001b[39m)\u001b[38;5;241m.\u001b[39mdt\u001b[38;5;241m.\u001b[39myear(),\n\u001b[0;32m      8\u001b[0m     month\u001b[38;5;241m=\u001b[39mpl\u001b[38;5;241m.\u001b[39mcol(\u001b[38;5;124m'\u001b[39m\u001b[38;5;124mdate\u001b[39m\u001b[38;5;124m'\u001b[39m)\u001b[38;5;241m.\u001b[39mdt\u001b[38;5;241m.\u001b[39mmonth(),\n\u001b[0;32m      9\u001b[0m     day\u001b[38;5;241m=\u001b[39mpl\u001b[38;5;241m.\u001b[39mcol(\u001b[38;5;124m'\u001b[39m\u001b[38;5;124mdate\u001b[39m\u001b[38;5;124m'\u001b[39m)\u001b[38;5;241m.\u001b[39mdt\u001b[38;5;241m.\u001b[39mday()\n\u001b[0;32m     10\u001b[0m )\n",
      "File \u001b[1;32m~\\AppData\\Local\\Packages\\PythonSoftwareFoundation.Python.3.9_qbz5n2kfra8p0\\LocalCache\\local-packages\\Python39\\site-packages\\polars\\dataframe\\frame.py:9586\u001b[0m, in \u001b[0;36mDataFrame.with_columns\u001b[1;34m(self, *exprs, **named_exprs)\u001b[0m\n\u001b[0;32m   9440\u001b[0m \u001b[38;5;28;01mdef\u001b[39;00m \u001b[38;5;21mwith_columns\u001b[39m(\n\u001b[0;32m   9441\u001b[0m     \u001b[38;5;28mself\u001b[39m,\n\u001b[0;32m   9442\u001b[0m     \u001b[38;5;241m*\u001b[39mexprs: IntoExpr \u001b[38;5;241m|\u001b[39m Iterable[IntoExpr],\n\u001b[0;32m   9443\u001b[0m     \u001b[38;5;241m*\u001b[39m\u001b[38;5;241m*\u001b[39mnamed_exprs: IntoExpr,\n\u001b[0;32m   9444\u001b[0m ) \u001b[38;5;241m-\u001b[39m\u001b[38;5;241m>\u001b[39m DataFrame:\n\u001b[0;32m   9445\u001b[0m     \u001b[38;5;124;03m\"\"\"\u001b[39;00m\n\u001b[0;32m   9446\u001b[0m \u001b[38;5;124;03m    Add columns to this DataFrame.\u001b[39;00m\n\u001b[0;32m   9447\u001b[0m \n\u001b[1;32m   (...)\u001b[0m\n\u001b[0;32m   9584\u001b[0m \u001b[38;5;124;03m    └─────┴──────┴─────────────┘\u001b[39;00m\n\u001b[0;32m   9585\u001b[0m \u001b[38;5;124;03m    \"\"\"\u001b[39;00m\n\u001b[1;32m-> 9586\u001b[0m     \u001b[38;5;28;01mreturn\u001b[39;00m \u001b[38;5;28;43mself\u001b[39;49m\u001b[38;5;241;43m.\u001b[39;49m\u001b[43mlazy\u001b[49m\u001b[43m(\u001b[49m\u001b[43m)\u001b[49m\u001b[38;5;241;43m.\u001b[39;49m\u001b[43mwith_columns\u001b[49m\u001b[43m(\u001b[49m\u001b[38;5;241;43m*\u001b[39;49m\u001b[43mexprs\u001b[49m\u001b[43m,\u001b[49m\u001b[43m \u001b[49m\u001b[38;5;241;43m*\u001b[39;49m\u001b[38;5;241;43m*\u001b[39;49m\u001b[43mnamed_exprs\u001b[49m\u001b[43m)\u001b[49m\u001b[38;5;241;43m.\u001b[39;49m\u001b[43mcollect\u001b[49m\u001b[43m(\u001b[49m\u001b[43m_eager\u001b[49m\u001b[38;5;241;43m=\u001b[39;49m\u001b[38;5;28;43;01mTrue\u001b[39;49;00m\u001b[43m)\u001b[49m\n",
      "File \u001b[1;32m~\\AppData\\Local\\Packages\\PythonSoftwareFoundation.Python.3.9_qbz5n2kfra8p0\\LocalCache\\local-packages\\Python39\\site-packages\\polars\\lazyframe\\frame.py:2056\u001b[0m, in \u001b[0;36mLazyFrame.collect\u001b[1;34m(self, type_coercion, _type_check, predicate_pushdown, projection_pushdown, simplify_expression, slice_pushdown, comm_subplan_elim, comm_subexpr_elim, cluster_with_columns, collapse_joins, no_optimization, streaming, engine, background, _check_order, _eager, **_kwargs)\u001b[0m\n\u001b[0;32m   2054\u001b[0m \u001b[38;5;66;03m# Only for testing purposes\u001b[39;00m\n\u001b[0;32m   2055\u001b[0m callback \u001b[38;5;241m=\u001b[39m _kwargs\u001b[38;5;241m.\u001b[39mget(\u001b[38;5;124m\"\u001b[39m\u001b[38;5;124mpost_opt_callback\u001b[39m\u001b[38;5;124m\"\u001b[39m, callback)\n\u001b[1;32m-> 2056\u001b[0m \u001b[38;5;28;01mreturn\u001b[39;00m wrap_df(\u001b[43mldf\u001b[49m\u001b[38;5;241;43m.\u001b[39;49m\u001b[43mcollect\u001b[49m\u001b[43m(\u001b[49m\u001b[43mcallback\u001b[49m\u001b[43m)\u001b[49m)\n",
      "\u001b[1;31mSchemaError\u001b[0m: invalid series dtype: expected `String`, got `date` for series with name `date`"
     ]
    }
   ],
   "source": [
    "# Generate int columns for year, month, and day from the date column\n",
    "ridership_df = ridership_df.with_columns(\n",
    "    pl.col('date').str.to_date('%m/%d/%Y')\n",
    ")\n",
    "\n",
    "ridership_df = ridership_df.with_columns(\n",
    "    year=pl.col('date').dt.year(),\n",
    "    month=pl.col('date').dt.month(),\n",
    "    day=pl.col('date').dt.day()\n",
    ")"
   ]
  },
  {
   "cell_type": "code",
   "execution_count": 14,
   "metadata": {},
   "outputs": [],
   "source": [
    "# Filter to a restricted date range to limit the size of the data in memory\n",
    "min_year = 2018\n",
    "max_year = 2024\n",
    "\n",
    "ridership_df = ridership_df.filter(\n",
    "    pl.col('year').is_between(min_year, max_year)\n",
    ")\n",
    "\n",
    "ridership_df = ridership_df.sort(['station_id', 'year', 'month', 'day'])"
   ]
  },
  {
   "cell_type": "code",
   "execution_count": 15,
   "metadata": {},
   "outputs": [
    {
     "data": {
      "text/html": [
       "<div><style>\n",
       ".dataframe > thead > tr,\n",
       ".dataframe > tbody > tr {\n",
       "  text-align: right;\n",
       "  white-space: pre-wrap;\n",
       "}\n",
       "</style>\n",
       "<small>shape: (10, 8)</small><table border=\"1\" class=\"dataframe\"><thead><tr><th>station_id</th><th>stationname</th><th>date</th><th>daytype</th><th>rides</th><th>year</th><th>month</th><th>day</th></tr><tr><td>i64</td><td>str</td><td>datetime[μs]</td><td>str</td><td>i64</td><td>i32</td><td>i8</td><td>i8</td></tr></thead><tbody><tr><td>40010</td><td>&quot;Austin-Forest Park&quot;</td><td>2018-01-01 00:00:00</td><td>&quot;U&quot;</td><td>343</td><td>2018</td><td>1</td><td>1</td></tr><tr><td>40010</td><td>&quot;Austin-Forest Park&quot;</td><td>2018-01-02 00:00:00</td><td>&quot;W&quot;</td><td>1187</td><td>2018</td><td>1</td><td>2</td></tr><tr><td>40010</td><td>&quot;Austin-Forest Park&quot;</td><td>2018-01-03 00:00:00</td><td>&quot;W&quot;</td><td>1429</td><td>2018</td><td>1</td><td>3</td></tr><tr><td>40010</td><td>&quot;Austin-Forest Park&quot;</td><td>2018-01-04 00:00:00</td><td>&quot;W&quot;</td><td>1447</td><td>2018</td><td>1</td><td>4</td></tr><tr><td>40010</td><td>&quot;Austin-Forest Park&quot;</td><td>2018-01-05 00:00:00</td><td>&quot;W&quot;</td><td>1391</td><td>2018</td><td>1</td><td>5</td></tr><tr><td>40010</td><td>&quot;Austin-Forest Park&quot;</td><td>2018-01-06 00:00:00</td><td>&quot;A&quot;</td><td>532</td><td>2018</td><td>1</td><td>6</td></tr><tr><td>40010</td><td>&quot;Austin-Forest Park&quot;</td><td>2018-01-07 00:00:00</td><td>&quot;U&quot;</td><td>450</td><td>2018</td><td>1</td><td>7</td></tr><tr><td>40010</td><td>&quot;Austin-Forest Park&quot;</td><td>2018-01-08 00:00:00</td><td>&quot;W&quot;</td><td>1773</td><td>2018</td><td>1</td><td>8</td></tr><tr><td>40010</td><td>&quot;Austin-Forest Park&quot;</td><td>2018-01-09 00:00:00</td><td>&quot;W&quot;</td><td>1808</td><td>2018</td><td>1</td><td>9</td></tr><tr><td>40010</td><td>&quot;Austin-Forest Park&quot;</td><td>2018-01-10 00:00:00</td><td>&quot;W&quot;</td><td>1832</td><td>2018</td><td>1</td><td>10</td></tr></tbody></table></div>"
      ],
      "text/plain": [
       "shape: (10, 8)\n",
       "┌────────────┬────────────────────┬─────────────────────┬─────────┬───────┬──────┬───────┬─────┐\n",
       "│ station_id ┆ stationname        ┆ date                ┆ daytype ┆ rides ┆ year ┆ month ┆ day │\n",
       "│ ---        ┆ ---                ┆ ---                 ┆ ---     ┆ ---   ┆ ---  ┆ ---   ┆ --- │\n",
       "│ i64        ┆ str                ┆ datetime[μs]        ┆ str     ┆ i64   ┆ i32  ┆ i8    ┆ i8  │\n",
       "╞════════════╪════════════════════╪═════════════════════╪═════════╪═══════╪══════╪═══════╪═════╡\n",
       "│ 40010      ┆ Austin-Forest Park ┆ 2018-01-01 00:00:00 ┆ U       ┆ 343   ┆ 2018 ┆ 1     ┆ 1   │\n",
       "│ 40010      ┆ Austin-Forest Park ┆ 2018-01-02 00:00:00 ┆ W       ┆ 1187  ┆ 2018 ┆ 1     ┆ 2   │\n",
       "│ 40010      ┆ Austin-Forest Park ┆ 2018-01-03 00:00:00 ┆ W       ┆ 1429  ┆ 2018 ┆ 1     ┆ 3   │\n",
       "│ 40010      ┆ Austin-Forest Park ┆ 2018-01-04 00:00:00 ┆ W       ┆ 1447  ┆ 2018 ┆ 1     ┆ 4   │\n",
       "│ 40010      ┆ Austin-Forest Park ┆ 2018-01-05 00:00:00 ┆ W       ┆ 1391  ┆ 2018 ┆ 1     ┆ 5   │\n",
       "│ 40010      ┆ Austin-Forest Park ┆ 2018-01-06 00:00:00 ┆ A       ┆ 532   ┆ 2018 ┆ 1     ┆ 6   │\n",
       "│ 40010      ┆ Austin-Forest Park ┆ 2018-01-07 00:00:00 ┆ U       ┆ 450   ┆ 2018 ┆ 1     ┆ 7   │\n",
       "│ 40010      ┆ Austin-Forest Park ┆ 2018-01-08 00:00:00 ┆ W       ┆ 1773  ┆ 2018 ┆ 1     ┆ 8   │\n",
       "│ 40010      ┆ Austin-Forest Park ┆ 2018-01-09 00:00:00 ┆ W       ┆ 1808  ┆ 2018 ┆ 1     ┆ 9   │\n",
       "│ 40010      ┆ Austin-Forest Park ┆ 2018-01-10 00:00:00 ┆ W       ┆ 1832  ┆ 2018 ┆ 1     ┆ 10  │\n",
       "└────────────┴────────────────────┴─────────────────────┴─────────┴───────┴──────┴───────┴─────┘"
      ]
     },
     "execution_count": 15,
     "metadata": {},
     "output_type": "execute_result"
    }
   ],
   "source": [
    "ridership_df.head(10)"
   ]
  },
  {
   "cell_type": "code",
   "execution_count": null,
   "metadata": {},
   "outputs": [],
   "source": [
    "# Todo: check that station ID and date are unique\n",
    "# Left join with station ID and names from system information dataset"
   ]
  }
 ],
 "metadata": {
  "kernelspec": {
   "display_name": "Python 3",
   "language": "python",
   "name": "python3"
  },
  "language_info": {
   "codemirror_mode": {
    "name": "ipython",
    "version": 3
   },
   "file_extension": ".py",
   "mimetype": "text/x-python",
   "name": "python",
   "nbconvert_exporter": "python",
   "pygments_lexer": "ipython3",
   "version": "3.9.13"
  }
 },
 "nbformat": 4,
 "nbformat_minor": 2
}
