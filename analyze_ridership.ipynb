{
 "cells": [
  {
   "cell_type": "code",
   "execution_count": 91,
   "metadata": {},
   "outputs": [],
   "source": [
    "import os\n",
    "import polars as pl\n",
    "import utils\n",
    "\n",
    "os.chdir(os.getcwd())"
   ]
  },
  {
   "cell_type": "code",
   "execution_count": 92,
   "metadata": {},
   "outputs": [],
   "source": [
    "ridership_df = pl.read_csv('data/CTA_-_Ridership_-__L__Station_Entries_-_Daily_Totals_20250203.csv')\n",
    "\n",
    "ridership_df = ridership_df.rename(\n",
    "    {\n",
    "        'stationname': 'station_name',\n",
    "        'daytype': 'day_type'\n",
    "    }\n",
    ")"
   ]
  },
  {
   "cell_type": "code",
   "execution_count": 93,
   "metadata": {},
   "outputs": [
    {
     "data": {
      "text/html": [
       "<div><style>\n",
       ".dataframe > thead > tr,\n",
       ".dataframe > tbody > tr {\n",
       "  text-align: right;\n",
       "  white-space: pre-wrap;\n",
       "}\n",
       "</style>\n",
       "<small>shape: (10, 5)</small><table border=\"1\" class=\"dataframe\"><thead><tr><th>station_id</th><th>station_name</th><th>date</th><th>day_type</th><th>rides</th></tr><tr><td>i64</td><td>str</td><td>str</td><td>str</td><td>i64</td></tr></thead><tbody><tr><td>41280</td><td>&quot;Jefferson Park&quot;</td><td>&quot;12/22/2017&quot;</td><td>&quot;W&quot;</td><td>6104</td></tr><tr><td>41000</td><td>&quot;Cermak-Chinatown&quot;</td><td>&quot;12/18/2017&quot;</td><td>&quot;W&quot;</td><td>3636</td></tr><tr><td>40280</td><td>&quot;Central-Lake&quot;</td><td>&quot;12/02/2017&quot;</td><td>&quot;A&quot;</td><td>1270</td></tr><tr><td>40140</td><td>&quot;Dempster-Skokie&quot;</td><td>&quot;12/19/2017&quot;</td><td>&quot;W&quot;</td><td>1759</td></tr><tr><td>40690</td><td>&quot;Dempster&quot;</td><td>&quot;12/03/2017&quot;</td><td>&quot;U&quot;</td><td>499</td></tr><tr><td>41660</td><td>&quot;Lake/State&quot;</td><td>&quot;12/30/2017&quot;</td><td>&quot;A&quot;</td><td>8615</td></tr><tr><td>40180</td><td>&quot;Oak Park-Forest Park&quot;</td><td>&quot;12/17/2017&quot;</td><td>&quot;U&quot;</td><td>442</td></tr><tr><td>40250</td><td>&quot;Kedzie-Homan-Forest Park&quot;</td><td>&quot;12/02/2017&quot;</td><td>&quot;A&quot;</td><td>1353</td></tr><tr><td>40120</td><td>&quot;35th/Archer&quot;</td><td>&quot;12/07/2017&quot;</td><td>&quot;W&quot;</td><td>3353</td></tr><tr><td>41420</td><td>&quot;Addison-North Main&quot;</td><td>&quot;12/19/2017&quot;</td><td>&quot;W&quot;</td><td>6034</td></tr></tbody></table></div>"
      ],
      "text/plain": [
       "shape: (10, 5)\n",
       "┌────────────┬──────────────────────────┬────────────┬──────────┬───────┐\n",
       "│ station_id ┆ station_name             ┆ date       ┆ day_type ┆ rides │\n",
       "│ ---        ┆ ---                      ┆ ---        ┆ ---      ┆ ---   │\n",
       "│ i64        ┆ str                      ┆ str        ┆ str      ┆ i64   │\n",
       "╞════════════╪══════════════════════════╪════════════╪══════════╪═══════╡\n",
       "│ 41280      ┆ Jefferson Park           ┆ 12/22/2017 ┆ W        ┆ 6104  │\n",
       "│ 41000      ┆ Cermak-Chinatown         ┆ 12/18/2017 ┆ W        ┆ 3636  │\n",
       "│ 40280      ┆ Central-Lake             ┆ 12/02/2017 ┆ A        ┆ 1270  │\n",
       "│ 40140      ┆ Dempster-Skokie          ┆ 12/19/2017 ┆ W        ┆ 1759  │\n",
       "│ 40690      ┆ Dempster                 ┆ 12/03/2017 ┆ U        ┆ 499   │\n",
       "│ 41660      ┆ Lake/State               ┆ 12/30/2017 ┆ A        ┆ 8615  │\n",
       "│ 40180      ┆ Oak Park-Forest Park     ┆ 12/17/2017 ┆ U        ┆ 442   │\n",
       "│ 40250      ┆ Kedzie-Homan-Forest Park ┆ 12/02/2017 ┆ A        ┆ 1353  │\n",
       "│ 40120      ┆ 35th/Archer              ┆ 12/07/2017 ┆ W        ┆ 3353  │\n",
       "│ 41420      ┆ Addison-North Main       ┆ 12/19/2017 ┆ W        ┆ 6034  │\n",
       "└────────────┴──────────────────────────┴────────────┴──────────┴───────┘"
      ]
     },
     "execution_count": 93,
     "metadata": {},
     "output_type": "execute_result"
    }
   ],
   "source": [
    "ridership_df.head(10)"
   ]
  },
  {
   "cell_type": "code",
   "execution_count": 94,
   "metadata": {},
   "outputs": [],
   "source": [
    "# Generate int columns for year, month, and day from the date column\n",
    "ridership_df = ridership_df.with_columns(\n",
    "    pl.col('date').str.to_date('%m/%d/%Y')\n",
    ")\n",
    "\n",
    "ridership_df = ridership_df.with_columns(\n",
    "    year=pl.col('date').dt.year(),\n",
    "    month=pl.col('date').dt.month(),\n",
    "    day=pl.col('date').dt.day()\n",
    ")"
   ]
  },
  {
   "cell_type": "code",
   "execution_count": 95,
   "metadata": {},
   "outputs": [],
   "source": [
    "# Filter to a restricted date range to limit the size of the data in memory\n",
    "min_year = 2018\n",
    "max_year = 2024\n",
    "\n",
    "ridership_df = ridership_df.filter(\n",
    "    pl.col('year').is_between(min_year, max_year)\n",
    ")\n",
    "\n",
    "ridership_df = ridership_df.sort(['station_id', 'year', 'month', 'day'])"
   ]
  },
  {
   "cell_type": "code",
   "execution_count": 96,
   "metadata": {},
   "outputs": [
    {
     "data": {
      "text/html": [
       "<div><style>\n",
       ".dataframe > thead > tr,\n",
       ".dataframe > tbody > tr {\n",
       "  text-align: right;\n",
       "  white-space: pre-wrap;\n",
       "}\n",
       "</style>\n",
       "<small>shape: (10, 8)</small><table border=\"1\" class=\"dataframe\"><thead><tr><th>station_id</th><th>station_name</th><th>date</th><th>day_type</th><th>rides</th><th>year</th><th>month</th><th>day</th></tr><tr><td>i64</td><td>str</td><td>date</td><td>str</td><td>i64</td><td>i32</td><td>i8</td><td>i8</td></tr></thead><tbody><tr><td>40010</td><td>&quot;Austin-Forest Park&quot;</td><td>2018-01-01</td><td>&quot;U&quot;</td><td>343</td><td>2018</td><td>1</td><td>1</td></tr><tr><td>40010</td><td>&quot;Austin-Forest Park&quot;</td><td>2018-01-02</td><td>&quot;W&quot;</td><td>1187</td><td>2018</td><td>1</td><td>2</td></tr><tr><td>40010</td><td>&quot;Austin-Forest Park&quot;</td><td>2018-01-03</td><td>&quot;W&quot;</td><td>1429</td><td>2018</td><td>1</td><td>3</td></tr><tr><td>40010</td><td>&quot;Austin-Forest Park&quot;</td><td>2018-01-04</td><td>&quot;W&quot;</td><td>1447</td><td>2018</td><td>1</td><td>4</td></tr><tr><td>40010</td><td>&quot;Austin-Forest Park&quot;</td><td>2018-01-05</td><td>&quot;W&quot;</td><td>1391</td><td>2018</td><td>1</td><td>5</td></tr><tr><td>40010</td><td>&quot;Austin-Forest Park&quot;</td><td>2018-01-06</td><td>&quot;A&quot;</td><td>532</td><td>2018</td><td>1</td><td>6</td></tr><tr><td>40010</td><td>&quot;Austin-Forest Park&quot;</td><td>2018-01-07</td><td>&quot;U&quot;</td><td>450</td><td>2018</td><td>1</td><td>7</td></tr><tr><td>40010</td><td>&quot;Austin-Forest Park&quot;</td><td>2018-01-08</td><td>&quot;W&quot;</td><td>1773</td><td>2018</td><td>1</td><td>8</td></tr><tr><td>40010</td><td>&quot;Austin-Forest Park&quot;</td><td>2018-01-09</td><td>&quot;W&quot;</td><td>1808</td><td>2018</td><td>1</td><td>9</td></tr><tr><td>40010</td><td>&quot;Austin-Forest Park&quot;</td><td>2018-01-10</td><td>&quot;W&quot;</td><td>1832</td><td>2018</td><td>1</td><td>10</td></tr></tbody></table></div>"
      ],
      "text/plain": [
       "shape: (10, 8)\n",
       "┌────────────┬────────────────────┬────────────┬──────────┬───────┬──────┬───────┬─────┐\n",
       "│ station_id ┆ station_name       ┆ date       ┆ day_type ┆ rides ┆ year ┆ month ┆ day │\n",
       "│ ---        ┆ ---                ┆ ---        ┆ ---      ┆ ---   ┆ ---  ┆ ---   ┆ --- │\n",
       "│ i64        ┆ str                ┆ date       ┆ str      ┆ i64   ┆ i32  ┆ i8    ┆ i8  │\n",
       "╞════════════╪════════════════════╪════════════╪══════════╪═══════╪══════╪═══════╪═════╡\n",
       "│ 40010      ┆ Austin-Forest Park ┆ 2018-01-01 ┆ U        ┆ 343   ┆ 2018 ┆ 1     ┆ 1   │\n",
       "│ 40010      ┆ Austin-Forest Park ┆ 2018-01-02 ┆ W        ┆ 1187  ┆ 2018 ┆ 1     ┆ 2   │\n",
       "│ 40010      ┆ Austin-Forest Park ┆ 2018-01-03 ┆ W        ┆ 1429  ┆ 2018 ┆ 1     ┆ 3   │\n",
       "│ 40010      ┆ Austin-Forest Park ┆ 2018-01-04 ┆ W        ┆ 1447  ┆ 2018 ┆ 1     ┆ 4   │\n",
       "│ 40010      ┆ Austin-Forest Park ┆ 2018-01-05 ┆ W        ┆ 1391  ┆ 2018 ┆ 1     ┆ 5   │\n",
       "│ 40010      ┆ Austin-Forest Park ┆ 2018-01-06 ┆ A        ┆ 532   ┆ 2018 ┆ 1     ┆ 6   │\n",
       "│ 40010      ┆ Austin-Forest Park ┆ 2018-01-07 ┆ U        ┆ 450   ┆ 2018 ┆ 1     ┆ 7   │\n",
       "│ 40010      ┆ Austin-Forest Park ┆ 2018-01-08 ┆ W        ┆ 1773  ┆ 2018 ┆ 1     ┆ 8   │\n",
       "│ 40010      ┆ Austin-Forest Park ┆ 2018-01-09 ┆ W        ┆ 1808  ┆ 2018 ┆ 1     ┆ 9   │\n",
       "│ 40010      ┆ Austin-Forest Park ┆ 2018-01-10 ┆ W        ┆ 1832  ┆ 2018 ┆ 1     ┆ 10  │\n",
       "└────────────┴────────────────────┴────────────┴──────────┴───────┴──────┴───────┴─────┘"
      ]
     },
     "execution_count": 96,
     "metadata": {},
     "output_type": "execute_result"
    }
   ],
   "source": [
    "ridership_df.head(10)"
   ]
  },
  {
   "cell_type": "code",
   "execution_count": 97,
   "metadata": {},
   "outputs": [],
   "source": [
    "# Check that station ID, year, month, and day uniquely identify rows in the dataset \n",
    "primary_key_columns = [\"station_id\", \"year\", \"month\", \"day\"]\n",
    "\n",
    "assert ridership_df.unique(subset=primary_key_columns).height == ridership_df.height, \"Station ID, year, month, and day are not the primary keys.\""
   ]
  }
 ],
 "metadata": {
  "kernelspec": {
   "display_name": "Python 3",
   "language": "python",
   "name": "python3"
  },
  "language_info": {
   "codemirror_mode": {
    "name": "ipython",
    "version": 3
   },
   "file_extension": ".py",
   "mimetype": "text/x-python",
   "name": "python",
   "nbconvert_exporter": "python",
   "pygments_lexer": "ipython3",
   "version": "3.9.13"
  }
 },
 "nbformat": 4,
 "nbformat_minor": 2
}
