{
 "cells": [
  {
   "cell_type": "code",
   "execution_count": 34,
   "metadata": {},
   "outputs": [],
   "source": [
    "import os\n",
    "import polars as pl\n",
    "import utils\n",
    "\n",
    "os.chdir(os.getcwd())"
   ]
  },
  {
   "cell_type": "code",
   "execution_count": 35,
   "metadata": {},
   "outputs": [],
   "source": [
    "ridership_df = pl.read_csv('data/CTA_-_Ridership_-__L__Station_Entries_-_Daily_Totals_20250203.csv')"
   ]
  },
  {
   "cell_type": "code",
   "execution_count": 36,
   "metadata": {},
   "outputs": [
    {
     "data": {
      "text/html": [
       "<div><style>\n",
       ".dataframe > thead > tr,\n",
       ".dataframe > tbody > tr {\n",
       "  text-align: right;\n",
       "  white-space: pre-wrap;\n",
       "}\n",
       "</style>\n",
       "<small>shape: (10, 5)</small><table border=\"1\" class=\"dataframe\"><thead><tr><th>station_id</th><th>stationname</th><th>date</th><th>daytype</th><th>rides</th></tr><tr><td>i64</td><td>str</td><td>str</td><td>str</td><td>i64</td></tr></thead><tbody><tr><td>41280</td><td>&quot;Jefferson Park&quot;</td><td>&quot;12/22/2017&quot;</td><td>&quot;W&quot;</td><td>6104</td></tr><tr><td>41000</td><td>&quot;Cermak-Chinatown&quot;</td><td>&quot;12/18/2017&quot;</td><td>&quot;W&quot;</td><td>3636</td></tr><tr><td>40280</td><td>&quot;Central-Lake&quot;</td><td>&quot;12/02/2017&quot;</td><td>&quot;A&quot;</td><td>1270</td></tr><tr><td>40140</td><td>&quot;Dempster-Skokie&quot;</td><td>&quot;12/19/2017&quot;</td><td>&quot;W&quot;</td><td>1759</td></tr><tr><td>40690</td><td>&quot;Dempster&quot;</td><td>&quot;12/03/2017&quot;</td><td>&quot;U&quot;</td><td>499</td></tr><tr><td>41660</td><td>&quot;Lake/State&quot;</td><td>&quot;12/30/2017&quot;</td><td>&quot;A&quot;</td><td>8615</td></tr><tr><td>40180</td><td>&quot;Oak Park-Forest Park&quot;</td><td>&quot;12/17/2017&quot;</td><td>&quot;U&quot;</td><td>442</td></tr><tr><td>40250</td><td>&quot;Kedzie-Homan-Forest Park&quot;</td><td>&quot;12/02/2017&quot;</td><td>&quot;A&quot;</td><td>1353</td></tr><tr><td>40120</td><td>&quot;35th/Archer&quot;</td><td>&quot;12/07/2017&quot;</td><td>&quot;W&quot;</td><td>3353</td></tr><tr><td>41420</td><td>&quot;Addison-North Main&quot;</td><td>&quot;12/19/2017&quot;</td><td>&quot;W&quot;</td><td>6034</td></tr></tbody></table></div>"
      ],
      "text/plain": [
       "shape: (10, 5)\n",
       "┌────────────┬──────────────────────────┬────────────┬─────────┬───────┐\n",
       "│ station_id ┆ stationname              ┆ date       ┆ daytype ┆ rides │\n",
       "│ ---        ┆ ---                      ┆ ---        ┆ ---     ┆ ---   │\n",
       "│ i64        ┆ str                      ┆ str        ┆ str     ┆ i64   │\n",
       "╞════════════╪══════════════════════════╪════════════╪═════════╪═══════╡\n",
       "│ 41280      ┆ Jefferson Park           ┆ 12/22/2017 ┆ W       ┆ 6104  │\n",
       "│ 41000      ┆ Cermak-Chinatown         ┆ 12/18/2017 ┆ W       ┆ 3636  │\n",
       "│ 40280      ┆ Central-Lake             ┆ 12/02/2017 ┆ A       ┆ 1270  │\n",
       "│ 40140      ┆ Dempster-Skokie          ┆ 12/19/2017 ┆ W       ┆ 1759  │\n",
       "│ 40690      ┆ Dempster                 ┆ 12/03/2017 ┆ U       ┆ 499   │\n",
       "│ 41660      ┆ Lake/State               ┆ 12/30/2017 ┆ A       ┆ 8615  │\n",
       "│ 40180      ┆ Oak Park-Forest Park     ┆ 12/17/2017 ┆ U       ┆ 442   │\n",
       "│ 40250      ┆ Kedzie-Homan-Forest Park ┆ 12/02/2017 ┆ A       ┆ 1353  │\n",
       "│ 40120      ┆ 35th/Archer              ┆ 12/07/2017 ┆ W       ┆ 3353  │\n",
       "│ 41420      ┆ Addison-North Main       ┆ 12/19/2017 ┆ W       ┆ 6034  │\n",
       "└────────────┴──────────────────────────┴────────────┴─────────┴───────┘"
      ]
     },
     "execution_count": 36,
     "metadata": {},
     "output_type": "execute_result"
    }
   ],
   "source": [
    "ridership_df.head(10)"
   ]
  },
  {
   "cell_type": "code",
   "execution_count": 37,
   "metadata": {},
   "outputs": [],
   "source": [
    "# Generate int columns for year, month, and day from the date column\n",
    "ridership_df = ridership_df.with_columns(\n",
    "    pl.col('date').str.to_date('%m/%d/%Y')\n",
    ")\n",
    "\n",
    "ridership_df = ridership_df.with_columns(\n",
    "    year=pl.col('date').dt.year(),\n",
    "    month=pl.col('date').dt.month(),\n",
    "    day=pl.col('date').dt.day()\n",
    ")"
   ]
  },
  {
   "cell_type": "code",
   "execution_count": 38,
   "metadata": {},
   "outputs": [],
   "source": [
    "# Filter to a restricted date range to limit the size of the data in memory\n",
    "min_year = 2018\n",
    "max_year = 2024\n",
    "\n",
    "ridership_df = ridership_df.filter(\n",
    "    pl.col('year').is_between(min_year, max_year)\n",
    ")\n",
    "\n",
    "ridership_df = ridership_df.sort(['station_id', 'year', 'month', 'day'])"
   ]
  },
  {
   "cell_type": "code",
   "execution_count": 39,
   "metadata": {},
   "outputs": [
    {
     "data": {
      "text/html": [
       "<div><style>\n",
       ".dataframe > thead > tr,\n",
       ".dataframe > tbody > tr {\n",
       "  text-align: right;\n",
       "  white-space: pre-wrap;\n",
       "}\n",
       "</style>\n",
       "<small>shape: (10, 8)</small><table border=\"1\" class=\"dataframe\"><thead><tr><th>station_id</th><th>stationname</th><th>date</th><th>daytype</th><th>rides</th><th>year</th><th>month</th><th>day</th></tr><tr><td>i64</td><td>str</td><td>date</td><td>str</td><td>i64</td><td>i32</td><td>i8</td><td>i8</td></tr></thead><tbody><tr><td>40010</td><td>&quot;Austin-Forest Park&quot;</td><td>2018-01-01</td><td>&quot;U&quot;</td><td>343</td><td>2018</td><td>1</td><td>1</td></tr><tr><td>40010</td><td>&quot;Austin-Forest Park&quot;</td><td>2018-01-02</td><td>&quot;W&quot;</td><td>1187</td><td>2018</td><td>1</td><td>2</td></tr><tr><td>40010</td><td>&quot;Austin-Forest Park&quot;</td><td>2018-01-03</td><td>&quot;W&quot;</td><td>1429</td><td>2018</td><td>1</td><td>3</td></tr><tr><td>40010</td><td>&quot;Austin-Forest Park&quot;</td><td>2018-01-04</td><td>&quot;W&quot;</td><td>1447</td><td>2018</td><td>1</td><td>4</td></tr><tr><td>40010</td><td>&quot;Austin-Forest Park&quot;</td><td>2018-01-05</td><td>&quot;W&quot;</td><td>1391</td><td>2018</td><td>1</td><td>5</td></tr><tr><td>40010</td><td>&quot;Austin-Forest Park&quot;</td><td>2018-01-06</td><td>&quot;A&quot;</td><td>532</td><td>2018</td><td>1</td><td>6</td></tr><tr><td>40010</td><td>&quot;Austin-Forest Park&quot;</td><td>2018-01-07</td><td>&quot;U&quot;</td><td>450</td><td>2018</td><td>1</td><td>7</td></tr><tr><td>40010</td><td>&quot;Austin-Forest Park&quot;</td><td>2018-01-08</td><td>&quot;W&quot;</td><td>1773</td><td>2018</td><td>1</td><td>8</td></tr><tr><td>40010</td><td>&quot;Austin-Forest Park&quot;</td><td>2018-01-09</td><td>&quot;W&quot;</td><td>1808</td><td>2018</td><td>1</td><td>9</td></tr><tr><td>40010</td><td>&quot;Austin-Forest Park&quot;</td><td>2018-01-10</td><td>&quot;W&quot;</td><td>1832</td><td>2018</td><td>1</td><td>10</td></tr></tbody></table></div>"
      ],
      "text/plain": [
       "shape: (10, 8)\n",
       "┌────────────┬────────────────────┬────────────┬─────────┬───────┬──────┬───────┬─────┐\n",
       "│ station_id ┆ stationname        ┆ date       ┆ daytype ┆ rides ┆ year ┆ month ┆ day │\n",
       "│ ---        ┆ ---                ┆ ---        ┆ ---     ┆ ---   ┆ ---  ┆ ---   ┆ --- │\n",
       "│ i64        ┆ str                ┆ date       ┆ str     ┆ i64   ┆ i32  ┆ i8    ┆ i8  │\n",
       "╞════════════╪════════════════════╪════════════╪═════════╪═══════╪══════╪═══════╪═════╡\n",
       "│ 40010      ┆ Austin-Forest Park ┆ 2018-01-01 ┆ U       ┆ 343   ┆ 2018 ┆ 1     ┆ 1   │\n",
       "│ 40010      ┆ Austin-Forest Park ┆ 2018-01-02 ┆ W       ┆ 1187  ┆ 2018 ┆ 1     ┆ 2   │\n",
       "│ 40010      ┆ Austin-Forest Park ┆ 2018-01-03 ┆ W       ┆ 1429  ┆ 2018 ┆ 1     ┆ 3   │\n",
       "│ 40010      ┆ Austin-Forest Park ┆ 2018-01-04 ┆ W       ┆ 1447  ┆ 2018 ┆ 1     ┆ 4   │\n",
       "│ 40010      ┆ Austin-Forest Park ┆ 2018-01-05 ┆ W       ┆ 1391  ┆ 2018 ┆ 1     ┆ 5   │\n",
       "│ 40010      ┆ Austin-Forest Park ┆ 2018-01-06 ┆ A       ┆ 532   ┆ 2018 ┆ 1     ┆ 6   │\n",
       "│ 40010      ┆ Austin-Forest Park ┆ 2018-01-07 ┆ U       ┆ 450   ┆ 2018 ┆ 1     ┆ 7   │\n",
       "│ 40010      ┆ Austin-Forest Park ┆ 2018-01-08 ┆ W       ┆ 1773  ┆ 2018 ┆ 1     ┆ 8   │\n",
       "│ 40010      ┆ Austin-Forest Park ┆ 2018-01-09 ┆ W       ┆ 1808  ┆ 2018 ┆ 1     ┆ 9   │\n",
       "│ 40010      ┆ Austin-Forest Park ┆ 2018-01-10 ┆ W       ┆ 1832  ┆ 2018 ┆ 1     ┆ 10  │\n",
       "└────────────┴────────────────────┴────────────┴─────────┴───────┴──────┴───────┴─────┘"
      ]
     },
     "execution_count": 39,
     "metadata": {},
     "output_type": "execute_result"
    }
   ],
   "source": [
    "ridership_df.head(10)"
   ]
  },
  {
   "cell_type": "code",
   "execution_count": 40,
   "metadata": {},
   "outputs": [],
   "source": [
    "# Check that station ID, year, month, and day uniquely identify rows in the dataset \n",
    "primary_key_columns = [\"station_id\", \"year\", \"month\", \"day\"]\n",
    "\n",
    "assert ridership_df.unique(subset=primary_key_columns).height == ridership_df.height, \"Station ID, year, month, and day are not the primary keys.\""
   ]
  },
  {
   "cell_type": "code",
   "execution_count": 41,
   "metadata": {},
   "outputs": [
    {
     "data": {
      "text/html": [
       "<div><style>\n",
       ".dataframe > thead > tr,\n",
       ".dataframe > tbody > tr {\n",
       "  text-align: right;\n",
       "  white-space: pre-wrap;\n",
       "}\n",
       "</style>\n",
       "<small>shape: (10, 17)</small><table border=\"1\" class=\"dataframe\"><thead><tr><th>STOP_ID</th><th>DIRECTION_ID</th><th>STOP_NAME</th><th>STATION_NAME</th><th>STATION_DESCRIPTIVE_NAME</th><th>MAP_ID</th><th>ADA</th><th>RED</th><th>BLUE</th><th>G</th><th>BRN</th><th>P</th><th>Pexp</th><th>Y</th><th>Pnk</th><th>O</th><th>Location</th></tr><tr><td>i64</td><td>str</td><td>str</td><td>str</td><td>str</td><td>i64</td><td>bool</td><td>bool</td><td>bool</td><td>bool</td><td>bool</td><td>bool</td><td>bool</td><td>bool</td><td>bool</td><td>bool</td><td>str</td></tr></thead><tbody><tr><td>30082</td><td>&quot;E&quot;</td><td>&quot;Cicero (Loop-bound)&quot;</td><td>&quot;Cicero&quot;</td><td>&quot;Cicero (Pink Line)&quot;</td><td>40420</td><td>true</td><td>false</td><td>false</td><td>false</td><td>false</td><td>false</td><td>false</td><td>false</td><td>true</td><td>false</td><td>&quot;(41.85182, -87.745336)&quot;</td></tr><tr><td>30151</td><td>&quot;E&quot;</td><td>&quot;Central Park (Loop-bound)&quot;</td><td>&quot;Central Park&quot;</td><td>&quot;Central Park (Pink Line)&quot;</td><td>40780</td><td>true</td><td>false</td><td>false</td><td>false</td><td>false</td><td>false</td><td>false</td><td>false</td><td>true</td><td>false</td><td>&quot;(41.853839, -87.714842)&quot;</td></tr><tr><td>30184</td><td>&quot;W&quot;</td><td>&quot;Halsted/63rd (Ashland-bound)&quot;</td><td>&quot;Halsted&quot;</td><td>&quot;Halsted (Green Line)&quot;</td><td>40940</td><td>true</td><td>false</td><td>false</td><td>true</td><td>false</td><td>false</td><td>false</td><td>false</td><td>false</td><td>false</td><td>&quot;(41.778943, -87.644244)&quot;</td></tr><tr><td>30044</td><td>&quot;N&quot;</td><td>&quot;Cumberland (O&#x27;Hare-bound)&quot;</td><td>&quot;Cumberland&quot;</td><td>&quot;Cumberland (Blue Line)&quot;</td><td>40230</td><td>true</td><td>false</td><td>true</td><td>false</td><td>false</td><td>false</td><td>false</td><td>false</td><td>false</td><td>false</td><td>&quot;(41.984246, -87.838028)&quot;</td></tr><tr><td>30092</td><td>&quot;E&quot;</td><td>&quot;Racine (O&#x27;Hare-bound)&quot;</td><td>&quot;Racine&quot;</td><td>&quot;Racine (Blue Line)&quot;</td><td>40470</td><td>false</td><td>false</td><td>true</td><td>false</td><td>false</td><td>false</td><td>false</td><td>false</td><td>false</td><td>false</td><td>&quot;(41.87592, -87.659458)&quot;</td></tr><tr><td>30253</td><td>&quot;N&quot;</td><td>&quot;Paulina (Kimball-bound)&quot;</td><td>&quot;Paulina&quot;</td><td>&quot;Paulina (Brown Line)&quot;</td><td>41310</td><td>true</td><td>false</td><td>false</td><td>false</td><td>true</td><td>false</td><td>false</td><td>false</td><td>false</td><td>false</td><td>&quot;(41.943623, -87.670907)&quot;</td></tr><tr><td>30162</td><td>&quot;W&quot;</td><td>&quot;18th (54th/Cermak-bound)&quot;</td><td>&quot;18th&quot;</td><td>&quot;18th (Pink Line)&quot;</td><td>40830</td><td>true</td><td>false</td><td>false</td><td>false</td><td>false</td><td>false</td><td>false</td><td>false</td><td>true</td><td>false</td><td>&quot;(41.857908, -87.669147)&quot;</td></tr><tr><td>30374</td><td>&quot;S&quot;</td><td>&quot;Clark/Lake (Forest Pk-bound)&quot;</td><td>&quot;Clark/Lake&quot;</td><td>&quot;Clark/Lake (Blue, Brown, Green…</td><td>40380</td><td>true</td><td>false</td><td>true</td><td>false</td><td>false</td><td>false</td><td>false</td><td>false</td><td>false</td><td>false</td><td>&quot;(41.885737, -87.630886)&quot;</td></tr><tr><td>30248</td><td>&quot;S&quot;</td><td>&quot;Jefferson Park (Forest Pk-boun…</td><td>&quot;Jefferson Park&quot;</td><td>&quot;Jefferson Park (Blue Line)&quot;</td><td>41280</td><td>true</td><td>false</td><td>true</td><td>false</td><td>false</td><td>false</td><td>false</td><td>false</td><td>false</td><td>false</td><td>&quot;(41.970634, -87.760892)&quot;</td></tr><tr><td>30104</td><td>&quot;S&quot;</td><td>&quot;Diversey (Loop-bound)&quot;</td><td>&quot;Diversey&quot;</td><td>&quot;Diversey (Brown &amp; Purple lines…</td><td>40530</td><td>true</td><td>false</td><td>false</td><td>false</td><td>true</td><td>false</td><td>true</td><td>false</td><td>false</td><td>false</td><td>&quot;(41.932732, -87.653131)&quot;</td></tr></tbody></table></div>"
      ],
      "text/plain": [
       "shape: (10, 17)\n",
       "┌─────────┬──────────────┬───────────────┬──────────────┬───┬───────┬───────┬───────┬──────────────┐\n",
       "│ STOP_ID ┆ DIRECTION_ID ┆ STOP_NAME     ┆ STATION_NAME ┆ … ┆ Y     ┆ Pnk   ┆ O     ┆ Location     │\n",
       "│ ---     ┆ ---          ┆ ---           ┆ ---          ┆   ┆ ---   ┆ ---   ┆ ---   ┆ ---          │\n",
       "│ i64     ┆ str          ┆ str           ┆ str          ┆   ┆ bool  ┆ bool  ┆ bool  ┆ str          │\n",
       "╞═════════╪══════════════╪═══════════════╪══════════════╪═══╪═══════╪═══════╪═══════╪══════════════╡\n",
       "│ 30082   ┆ E            ┆ Cicero        ┆ Cicero       ┆ … ┆ false ┆ true  ┆ false ┆ (41.85182,   │\n",
       "│         ┆              ┆ (Loop-bound)  ┆              ┆   ┆       ┆       ┆       ┆ -87.745336)  │\n",
       "│ 30151   ┆ E            ┆ Central Park  ┆ Central Park ┆ … ┆ false ┆ true  ┆ false ┆ (41.853839,  │\n",
       "│         ┆              ┆ (Loop-bound)  ┆              ┆   ┆       ┆       ┆       ┆ -87.714842)  │\n",
       "│ 30184   ┆ W            ┆ Halsted/63rd  ┆ Halsted      ┆ … ┆ false ┆ false ┆ false ┆ (41.778943,  │\n",
       "│         ┆              ┆ (Ashland-boun ┆              ┆   ┆       ┆       ┆       ┆ -87.644244)  │\n",
       "│         ┆              ┆ d)            ┆              ┆   ┆       ┆       ┆       ┆              │\n",
       "│ 30044   ┆ N            ┆ Cumberland    ┆ Cumberland   ┆ … ┆ false ┆ false ┆ false ┆ (41.984246,  │\n",
       "│         ┆              ┆ (O'Hare-bound ┆              ┆   ┆       ┆       ┆       ┆ -87.838028)  │\n",
       "│         ┆              ┆ )             ┆              ┆   ┆       ┆       ┆       ┆              │\n",
       "│ 30092   ┆ E            ┆ Racine (O'Har ┆ Racine       ┆ … ┆ false ┆ false ┆ false ┆ (41.87592,   │\n",
       "│         ┆              ┆ e-bound)      ┆              ┆   ┆       ┆       ┆       ┆ -87.659458)  │\n",
       "│ 30253   ┆ N            ┆ Paulina (Kimb ┆ Paulina      ┆ … ┆ false ┆ false ┆ false ┆ (41.943623,  │\n",
       "│         ┆              ┆ all-bound)    ┆              ┆   ┆       ┆       ┆       ┆ -87.670907)  │\n",
       "│ 30162   ┆ W            ┆ 18th (54th/Ce ┆ 18th         ┆ … ┆ false ┆ true  ┆ false ┆ (41.857908,  │\n",
       "│         ┆              ┆ rmak-bound)   ┆              ┆   ┆       ┆       ┆       ┆ -87.669147)  │\n",
       "│ 30374   ┆ S            ┆ Clark/Lake    ┆ Clark/Lake   ┆ … ┆ false ┆ false ┆ false ┆ (41.885737,  │\n",
       "│         ┆              ┆ (Forest       ┆              ┆   ┆       ┆       ┆       ┆ -87.630886)  │\n",
       "│         ┆              ┆ Pk-bound)     ┆              ┆   ┆       ┆       ┆       ┆              │\n",
       "│ 30248   ┆ S            ┆ Jefferson     ┆ Jefferson    ┆ … ┆ false ┆ false ┆ false ┆ (41.970634,  │\n",
       "│         ┆              ┆ Park (Forest  ┆ Park         ┆   ┆       ┆       ┆       ┆ -87.760892)  │\n",
       "│         ┆              ┆ Pk-boun…      ┆              ┆   ┆       ┆       ┆       ┆              │\n",
       "│ 30104   ┆ S            ┆ Diversey      ┆ Diversey     ┆ … ┆ false ┆ false ┆ false ┆ (41.932732,  │\n",
       "│         ┆              ┆ (Loop-bound)  ┆              ┆   ┆       ┆       ┆       ┆ -87.653131)  │\n",
       "└─────────┴──────────────┴───────────────┴──────────────┴───┴───────┴───────┴───────┴──────────────┘"
      ]
     },
     "execution_count": 41,
     "metadata": {},
     "output_type": "execute_result"
    }
   ],
   "source": [
    "# Load the dataset containing stop information to left join\n",
    "system_info_df = pl.read_csv('data/CTA_-_System_Information_-_List_of__L__Stops_20250203.csv')\n",
    "\n",
    "system_info_df.head(10)"
   ]
  },
  {
   "cell_type": "code",
   "execution_count": 42,
   "metadata": {},
   "outputs": [],
   "source": [
    "# Stop information dataset is messy; needs several cleaning operations:\n",
    "# * convert all columns to snakecase\n",
    "# * remove location column \n",
    "# * rename columns: {'g': 'green', 'brn': 'brown', 'p': 'purple', 'pexp': 'purple_express',\n",
    "# 'y': 'yellow', 'pnk': 'pink', 'o': 'orange'}\n",
    "# * rename columns: add _indicator to all boolean variables\n",
    "line_rename_map = {\n",
    "    'red': 'red',\n",
    "    'blue': 'blue',\n",
    "    'g': 'green', \n",
    "    'brn': 'brown', \n",
    "    'p': 'purple', \n",
    "    'pexp': 'purple_express',\n",
    "    'y': 'yellow', \n",
    "    'pnk': 'pink', \n",
    "    'o': 'orange'\n",
    "}\n",
    "\n",
    "new_line_col_names = list(line_rename_map.values())\n",
    "\n",
    "system_info_df = system_info_df.rename(\n",
    "    {col: utils.to_snake_case(col) for col in system_info_df.columns}\n",
    ").select(\n",
    "    pl.exclude('location')\n",
    ").rename(\n",
    "    line_rename_map\n",
    ").with_columns(\n",
    "    pl.col(new_line_col_names).cast(pl.Int8)\n",
    ").with_columns(\n",
    "    pl.col('ada').cast(pl.Int8)\n",
    ").rename(\n",
    "    {col: col + '_indicator' for col in new_line_col_names}\n",
    ").rename(\n",
    "    {'ada': 'ada_indicator'}\n",
    ")"
   ]
  },
  {
   "cell_type": "code",
   "execution_count": 43,
   "metadata": {},
   "outputs": [
    {
     "data": {
      "text/html": [
       "<div><style>\n",
       ".dataframe > thead > tr,\n",
       ".dataframe > tbody > tr {\n",
       "  text-align: right;\n",
       "  white-space: pre-wrap;\n",
       "}\n",
       "</style>\n",
       "<small>shape: (10, 16)</small><table border=\"1\" class=\"dataframe\"><thead><tr><th>stop_id</th><th>direction_id</th><th>stop_name</th><th>station_name</th><th>station_descriptive_name</th><th>map_id</th><th>ada_indicator</th><th>red_indicator</th><th>blue_indicator</th><th>green_indicator</th><th>brown_indicator</th><th>purple_indicator</th><th>purple_express_indicator</th><th>yellow_indicator</th><th>pink_indicator</th><th>orange_indicator</th></tr><tr><td>i64</td><td>str</td><td>str</td><td>str</td><td>str</td><td>i64</td><td>i8</td><td>i8</td><td>i8</td><td>i8</td><td>i8</td><td>i8</td><td>i8</td><td>i8</td><td>i8</td><td>i8</td></tr></thead><tbody><tr><td>30082</td><td>&quot;E&quot;</td><td>&quot;Cicero (Loop-bound)&quot;</td><td>&quot;Cicero&quot;</td><td>&quot;Cicero (Pink Line)&quot;</td><td>40420</td><td>1</td><td>0</td><td>0</td><td>0</td><td>0</td><td>0</td><td>0</td><td>0</td><td>1</td><td>0</td></tr><tr><td>30151</td><td>&quot;E&quot;</td><td>&quot;Central Park (Loop-bound)&quot;</td><td>&quot;Central Park&quot;</td><td>&quot;Central Park (Pink Line)&quot;</td><td>40780</td><td>1</td><td>0</td><td>0</td><td>0</td><td>0</td><td>0</td><td>0</td><td>0</td><td>1</td><td>0</td></tr><tr><td>30184</td><td>&quot;W&quot;</td><td>&quot;Halsted/63rd (Ashland-bound)&quot;</td><td>&quot;Halsted&quot;</td><td>&quot;Halsted (Green Line)&quot;</td><td>40940</td><td>1</td><td>0</td><td>0</td><td>1</td><td>0</td><td>0</td><td>0</td><td>0</td><td>0</td><td>0</td></tr><tr><td>30044</td><td>&quot;N&quot;</td><td>&quot;Cumberland (O&#x27;Hare-bound)&quot;</td><td>&quot;Cumberland&quot;</td><td>&quot;Cumberland (Blue Line)&quot;</td><td>40230</td><td>1</td><td>0</td><td>1</td><td>0</td><td>0</td><td>0</td><td>0</td><td>0</td><td>0</td><td>0</td></tr><tr><td>30092</td><td>&quot;E&quot;</td><td>&quot;Racine (O&#x27;Hare-bound)&quot;</td><td>&quot;Racine&quot;</td><td>&quot;Racine (Blue Line)&quot;</td><td>40470</td><td>0</td><td>0</td><td>1</td><td>0</td><td>0</td><td>0</td><td>0</td><td>0</td><td>0</td><td>0</td></tr><tr><td>30253</td><td>&quot;N&quot;</td><td>&quot;Paulina (Kimball-bound)&quot;</td><td>&quot;Paulina&quot;</td><td>&quot;Paulina (Brown Line)&quot;</td><td>41310</td><td>1</td><td>0</td><td>0</td><td>0</td><td>1</td><td>0</td><td>0</td><td>0</td><td>0</td><td>0</td></tr><tr><td>30162</td><td>&quot;W&quot;</td><td>&quot;18th (54th/Cermak-bound)&quot;</td><td>&quot;18th&quot;</td><td>&quot;18th (Pink Line)&quot;</td><td>40830</td><td>1</td><td>0</td><td>0</td><td>0</td><td>0</td><td>0</td><td>0</td><td>0</td><td>1</td><td>0</td></tr><tr><td>30374</td><td>&quot;S&quot;</td><td>&quot;Clark/Lake (Forest Pk-bound)&quot;</td><td>&quot;Clark/Lake&quot;</td><td>&quot;Clark/Lake (Blue, Brown, Green…</td><td>40380</td><td>1</td><td>0</td><td>1</td><td>0</td><td>0</td><td>0</td><td>0</td><td>0</td><td>0</td><td>0</td></tr><tr><td>30248</td><td>&quot;S&quot;</td><td>&quot;Jefferson Park (Forest Pk-boun…</td><td>&quot;Jefferson Park&quot;</td><td>&quot;Jefferson Park (Blue Line)&quot;</td><td>41280</td><td>1</td><td>0</td><td>1</td><td>0</td><td>0</td><td>0</td><td>0</td><td>0</td><td>0</td><td>0</td></tr><tr><td>30104</td><td>&quot;S&quot;</td><td>&quot;Diversey (Loop-bound)&quot;</td><td>&quot;Diversey&quot;</td><td>&quot;Diversey (Brown &amp; Purple lines…</td><td>40530</td><td>1</td><td>0</td><td>0</td><td>0</td><td>1</td><td>0</td><td>1</td><td>0</td><td>0</td><td>0</td></tr></tbody></table></div>"
      ],
      "text/plain": [
       "shape: (10, 16)\n",
       "┌─────────┬────────────┬───────────┬───────────┬───┬───────────┬───────────┬───────────┬───────────┐\n",
       "│ stop_id ┆ direction_ ┆ stop_name ┆ station_n ┆ … ┆ purple_ex ┆ yellow_in ┆ pink_indi ┆ orange_in │\n",
       "│ ---     ┆ id         ┆ ---       ┆ ame       ┆   ┆ press_ind ┆ dicator   ┆ cator     ┆ dicator   │\n",
       "│ i64     ┆ ---        ┆ str       ┆ ---       ┆   ┆ icator    ┆ ---       ┆ ---       ┆ ---       │\n",
       "│         ┆ str        ┆           ┆ str       ┆   ┆ ---       ┆ i8        ┆ i8        ┆ i8        │\n",
       "│         ┆            ┆           ┆           ┆   ┆ i8        ┆           ┆           ┆           │\n",
       "╞═════════╪════════════╪═══════════╪═══════════╪═══╪═══════════╪═══════════╪═══════════╪═══════════╡\n",
       "│ 30082   ┆ E          ┆ Cicero    ┆ Cicero    ┆ … ┆ 0         ┆ 0         ┆ 1         ┆ 0         │\n",
       "│         ┆            ┆ (Loop-bou ┆           ┆   ┆           ┆           ┆           ┆           │\n",
       "│         ┆            ┆ nd)       ┆           ┆   ┆           ┆           ┆           ┆           │\n",
       "│ 30151   ┆ E          ┆ Central   ┆ Central   ┆ … ┆ 0         ┆ 0         ┆ 1         ┆ 0         │\n",
       "│         ┆            ┆ Park (Loo ┆ Park      ┆   ┆           ┆           ┆           ┆           │\n",
       "│         ┆            ┆ p-bound)  ┆           ┆   ┆           ┆           ┆           ┆           │\n",
       "│ 30184   ┆ W          ┆ Halsted/6 ┆ Halsted   ┆ … ┆ 0         ┆ 0         ┆ 0         ┆ 0         │\n",
       "│         ┆            ┆ 3rd (Ashl ┆           ┆   ┆           ┆           ┆           ┆           │\n",
       "│         ┆            ┆ and-bound ┆           ┆   ┆           ┆           ┆           ┆           │\n",
       "│         ┆            ┆ )         ┆           ┆   ┆           ┆           ┆           ┆           │\n",
       "│ 30044   ┆ N          ┆ Cumberlan ┆ Cumberlan ┆ … ┆ 0         ┆ 0         ┆ 0         ┆ 0         │\n",
       "│         ┆            ┆ d (O'Hare ┆ d         ┆   ┆           ┆           ┆           ┆           │\n",
       "│         ┆            ┆ -bound)   ┆           ┆   ┆           ┆           ┆           ┆           │\n",
       "│ 30092   ┆ E          ┆ Racine    ┆ Racine    ┆ … ┆ 0         ┆ 0         ┆ 0         ┆ 0         │\n",
       "│         ┆            ┆ (O'Hare-b ┆           ┆   ┆           ┆           ┆           ┆           │\n",
       "│         ┆            ┆ ound)     ┆           ┆   ┆           ┆           ┆           ┆           │\n",
       "│ 30253   ┆ N          ┆ Paulina   ┆ Paulina   ┆ … ┆ 0         ┆ 0         ┆ 0         ┆ 0         │\n",
       "│         ┆            ┆ (Kimball- ┆           ┆   ┆           ┆           ┆           ┆           │\n",
       "│         ┆            ┆ bound)    ┆           ┆   ┆           ┆           ┆           ┆           │\n",
       "│ 30162   ┆ W          ┆ 18th (54t ┆ 18th      ┆ … ┆ 0         ┆ 0         ┆ 1         ┆ 0         │\n",
       "│         ┆            ┆ h/Cermak- ┆           ┆   ┆           ┆           ┆           ┆           │\n",
       "│         ┆            ┆ bound)    ┆           ┆   ┆           ┆           ┆           ┆           │\n",
       "│ 30374   ┆ S          ┆ Clark/Lak ┆ Clark/Lak ┆ … ┆ 0         ┆ 0         ┆ 0         ┆ 0         │\n",
       "│         ┆            ┆ e (Forest ┆ e         ┆   ┆           ┆           ┆           ┆           │\n",
       "│         ┆            ┆ Pk-bound) ┆           ┆   ┆           ┆           ┆           ┆           │\n",
       "│ 30248   ┆ S          ┆ Jefferson ┆ Jefferson ┆ … ┆ 0         ┆ 0         ┆ 0         ┆ 0         │\n",
       "│         ┆            ┆ Park      ┆ Park      ┆   ┆           ┆           ┆           ┆           │\n",
       "│         ┆            ┆ (Forest   ┆           ┆   ┆           ┆           ┆           ┆           │\n",
       "│         ┆            ┆ Pk-boun…  ┆           ┆   ┆           ┆           ┆           ┆           │\n",
       "│ 30104   ┆ S          ┆ Diversey  ┆ Diversey  ┆ … ┆ 1         ┆ 0         ┆ 0         ┆ 0         │\n",
       "│         ┆            ┆ (Loop-bou ┆           ┆   ┆           ┆           ┆           ┆           │\n",
       "│         ┆            ┆ nd)       ┆           ┆   ┆           ┆           ┆           ┆           │\n",
       "└─────────┴────────────┴───────────┴───────────┴───┴───────────┴───────────┴───────────┴───────────┘"
      ]
     },
     "execution_count": 43,
     "metadata": {},
     "output_type": "execute_result"
    }
   ],
   "source": [
    "system_info_df.head(10)"
   ]
  }
 ],
 "metadata": {
  "kernelspec": {
   "display_name": "Python 3",
   "language": "python",
   "name": "python3"
  },
  "language_info": {
   "codemirror_mode": {
    "name": "ipython",
    "version": 3
   },
   "file_extension": ".py",
   "mimetype": "text/x-python",
   "name": "python",
   "nbconvert_exporter": "python",
   "pygments_lexer": "ipython3",
   "version": "3.9.13"
  }
 },
 "nbformat": 4,
 "nbformat_minor": 2
}
