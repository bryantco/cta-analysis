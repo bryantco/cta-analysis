{
 "cells": [
  {
   "cell_type": "code",
   "execution_count": 1,
   "metadata": {},
   "outputs": [],
   "source": [
    "import os\n",
    "import polars as pl\n",
    "import utils\n",
    "import plotly.express as px\n",
    "\n",
    "import plotly.io as pio\n",
    "pio.renderers.default = \"png\" # needed for px figures to render on nbviewer and github\n",
    "\n",
    "os.chdir(os.getcwd())"
   ]
  },
  {
   "cell_type": "code",
   "execution_count": 2,
   "metadata": {},
   "outputs": [],
   "source": [
    "ridership_df = pl.read_csv('data/CTA_-_Ridership_-__L__Station_Entries_-_Daily_Totals_20250203.csv')\n",
    "\n",
    "ridership_df = ridership_df.rename(\n",
    "    {\n",
    "        'stationname': 'station_name',\n",
    "        'daytype': 'day_type'\n",
    "    }\n",
    ")"
   ]
  },
  {
   "cell_type": "code",
   "execution_count": 3,
   "metadata": {},
   "outputs": [
    {
     "data": {
      "text/html": [
       "<div><style>\n",
       ".dataframe > thead > tr,\n",
       ".dataframe > tbody > tr {\n",
       "  text-align: right;\n",
       "  white-space: pre-wrap;\n",
       "}\n",
       "</style>\n",
       "<small>shape: (10, 5)</small><table border=\"1\" class=\"dataframe\"><thead><tr><th>station_id</th><th>station_name</th><th>date</th><th>day_type</th><th>rides</th></tr><tr><td>i64</td><td>str</td><td>str</td><td>str</td><td>i64</td></tr></thead><tbody><tr><td>41280</td><td>&quot;Jefferson Park&quot;</td><td>&quot;12/22/2017&quot;</td><td>&quot;W&quot;</td><td>6104</td></tr><tr><td>41000</td><td>&quot;Cermak-Chinatown&quot;</td><td>&quot;12/18/2017&quot;</td><td>&quot;W&quot;</td><td>3636</td></tr><tr><td>40280</td><td>&quot;Central-Lake&quot;</td><td>&quot;12/02/2017&quot;</td><td>&quot;A&quot;</td><td>1270</td></tr><tr><td>40140</td><td>&quot;Dempster-Skokie&quot;</td><td>&quot;12/19/2017&quot;</td><td>&quot;W&quot;</td><td>1759</td></tr><tr><td>40690</td><td>&quot;Dempster&quot;</td><td>&quot;12/03/2017&quot;</td><td>&quot;U&quot;</td><td>499</td></tr><tr><td>41660</td><td>&quot;Lake/State&quot;</td><td>&quot;12/30/2017&quot;</td><td>&quot;A&quot;</td><td>8615</td></tr><tr><td>40180</td><td>&quot;Oak Park-Forest Park&quot;</td><td>&quot;12/17/2017&quot;</td><td>&quot;U&quot;</td><td>442</td></tr><tr><td>40250</td><td>&quot;Kedzie-Homan-Forest Park&quot;</td><td>&quot;12/02/2017&quot;</td><td>&quot;A&quot;</td><td>1353</td></tr><tr><td>40120</td><td>&quot;35th/Archer&quot;</td><td>&quot;12/07/2017&quot;</td><td>&quot;W&quot;</td><td>3353</td></tr><tr><td>41420</td><td>&quot;Addison-North Main&quot;</td><td>&quot;12/19/2017&quot;</td><td>&quot;W&quot;</td><td>6034</td></tr></tbody></table></div>"
      ],
      "text/plain": [
       "shape: (10, 5)\n",
       "┌────────────┬──────────────────────────┬────────────┬──────────┬───────┐\n",
       "│ station_id ┆ station_name             ┆ date       ┆ day_type ┆ rides │\n",
       "│ ---        ┆ ---                      ┆ ---        ┆ ---      ┆ ---   │\n",
       "│ i64        ┆ str                      ┆ str        ┆ str      ┆ i64   │\n",
       "╞════════════╪══════════════════════════╪════════════╪══════════╪═══════╡\n",
       "│ 41280      ┆ Jefferson Park           ┆ 12/22/2017 ┆ W        ┆ 6104  │\n",
       "│ 41000      ┆ Cermak-Chinatown         ┆ 12/18/2017 ┆ W        ┆ 3636  │\n",
       "│ 40280      ┆ Central-Lake             ┆ 12/02/2017 ┆ A        ┆ 1270  │\n",
       "│ 40140      ┆ Dempster-Skokie          ┆ 12/19/2017 ┆ W        ┆ 1759  │\n",
       "│ 40690      ┆ Dempster                 ┆ 12/03/2017 ┆ U        ┆ 499   │\n",
       "│ 41660      ┆ Lake/State               ┆ 12/30/2017 ┆ A        ┆ 8615  │\n",
       "│ 40180      ┆ Oak Park-Forest Park     ┆ 12/17/2017 ┆ U        ┆ 442   │\n",
       "│ 40250      ┆ Kedzie-Homan-Forest Park ┆ 12/02/2017 ┆ A        ┆ 1353  │\n",
       "│ 40120      ┆ 35th/Archer              ┆ 12/07/2017 ┆ W        ┆ 3353  │\n",
       "│ 41420      ┆ Addison-North Main       ┆ 12/19/2017 ┆ W        ┆ 6034  │\n",
       "└────────────┴──────────────────────────┴────────────┴──────────┴───────┘"
      ]
     },
     "execution_count": 3,
     "metadata": {},
     "output_type": "execute_result"
    }
   ],
   "source": [
    "ridership_df.head(10)"
   ]
  },
  {
   "cell_type": "code",
   "execution_count": 4,
   "metadata": {},
   "outputs": [],
   "source": [
    "# Generate int columns for year, month, and day from the date column\n",
    "ridership_df = ridership_df.with_columns(\n",
    "    pl.col('date').str.to_date('%m/%d/%Y')\n",
    ")\n",
    "\n",
    "ridership_df = ridership_df.with_columns(\n",
    "    year=pl.col('date').dt.year(),\n",
    "    month=pl.col('date').dt.month(),\n",
    "    day=pl.col('date').dt.day()\n",
    ")"
   ]
  },
  {
   "cell_type": "code",
   "execution_count": 5,
   "metadata": {},
   "outputs": [],
   "source": [
    "# Filter to a restricted date range to limit the size of the data in memory\n",
    "min_year = 2018\n",
    "max_year = 2024\n",
    "\n",
    "ridership_df = ridership_df.filter(\n",
    "    pl.col('year').is_between(min_year, max_year)\n",
    ")\n",
    "\n",
    "ridership_df = ridership_df.sort(['station_id', 'year', 'month', 'day'])"
   ]
  },
  {
   "cell_type": "code",
   "execution_count": 6,
   "metadata": {},
   "outputs": [
    {
     "data": {
      "text/html": [
       "<div><style>\n",
       ".dataframe > thead > tr,\n",
       ".dataframe > tbody > tr {\n",
       "  text-align: right;\n",
       "  white-space: pre-wrap;\n",
       "}\n",
       "</style>\n",
       "<small>shape: (10, 8)</small><table border=\"1\" class=\"dataframe\"><thead><tr><th>station_id</th><th>station_name</th><th>date</th><th>day_type</th><th>rides</th><th>year</th><th>month</th><th>day</th></tr><tr><td>i64</td><td>str</td><td>date</td><td>str</td><td>i64</td><td>i32</td><td>i8</td><td>i8</td></tr></thead><tbody><tr><td>40010</td><td>&quot;Austin-Forest Park&quot;</td><td>2018-01-01</td><td>&quot;U&quot;</td><td>343</td><td>2018</td><td>1</td><td>1</td></tr><tr><td>40010</td><td>&quot;Austin-Forest Park&quot;</td><td>2018-01-02</td><td>&quot;W&quot;</td><td>1187</td><td>2018</td><td>1</td><td>2</td></tr><tr><td>40010</td><td>&quot;Austin-Forest Park&quot;</td><td>2018-01-03</td><td>&quot;W&quot;</td><td>1429</td><td>2018</td><td>1</td><td>3</td></tr><tr><td>40010</td><td>&quot;Austin-Forest Park&quot;</td><td>2018-01-04</td><td>&quot;W&quot;</td><td>1447</td><td>2018</td><td>1</td><td>4</td></tr><tr><td>40010</td><td>&quot;Austin-Forest Park&quot;</td><td>2018-01-05</td><td>&quot;W&quot;</td><td>1391</td><td>2018</td><td>1</td><td>5</td></tr><tr><td>40010</td><td>&quot;Austin-Forest Park&quot;</td><td>2018-01-06</td><td>&quot;A&quot;</td><td>532</td><td>2018</td><td>1</td><td>6</td></tr><tr><td>40010</td><td>&quot;Austin-Forest Park&quot;</td><td>2018-01-07</td><td>&quot;U&quot;</td><td>450</td><td>2018</td><td>1</td><td>7</td></tr><tr><td>40010</td><td>&quot;Austin-Forest Park&quot;</td><td>2018-01-08</td><td>&quot;W&quot;</td><td>1773</td><td>2018</td><td>1</td><td>8</td></tr><tr><td>40010</td><td>&quot;Austin-Forest Park&quot;</td><td>2018-01-09</td><td>&quot;W&quot;</td><td>1808</td><td>2018</td><td>1</td><td>9</td></tr><tr><td>40010</td><td>&quot;Austin-Forest Park&quot;</td><td>2018-01-10</td><td>&quot;W&quot;</td><td>1832</td><td>2018</td><td>1</td><td>10</td></tr></tbody></table></div>"
      ],
      "text/plain": [
       "shape: (10, 8)\n",
       "┌────────────┬────────────────────┬────────────┬──────────┬───────┬──────┬───────┬─────┐\n",
       "│ station_id ┆ station_name       ┆ date       ┆ day_type ┆ rides ┆ year ┆ month ┆ day │\n",
       "│ ---        ┆ ---                ┆ ---        ┆ ---      ┆ ---   ┆ ---  ┆ ---   ┆ --- │\n",
       "│ i64        ┆ str                ┆ date       ┆ str      ┆ i64   ┆ i32  ┆ i8    ┆ i8  │\n",
       "╞════════════╪════════════════════╪════════════╪══════════╪═══════╪══════╪═══════╪═════╡\n",
       "│ 40010      ┆ Austin-Forest Park ┆ 2018-01-01 ┆ U        ┆ 343   ┆ 2018 ┆ 1     ┆ 1   │\n",
       "│ 40010      ┆ Austin-Forest Park ┆ 2018-01-02 ┆ W        ┆ 1187  ┆ 2018 ┆ 1     ┆ 2   │\n",
       "│ 40010      ┆ Austin-Forest Park ┆ 2018-01-03 ┆ W        ┆ 1429  ┆ 2018 ┆ 1     ┆ 3   │\n",
       "│ 40010      ┆ Austin-Forest Park ┆ 2018-01-04 ┆ W        ┆ 1447  ┆ 2018 ┆ 1     ┆ 4   │\n",
       "│ 40010      ┆ Austin-Forest Park ┆ 2018-01-05 ┆ W        ┆ 1391  ┆ 2018 ┆ 1     ┆ 5   │\n",
       "│ 40010      ┆ Austin-Forest Park ┆ 2018-01-06 ┆ A        ┆ 532   ┆ 2018 ┆ 1     ┆ 6   │\n",
       "│ 40010      ┆ Austin-Forest Park ┆ 2018-01-07 ┆ U        ┆ 450   ┆ 2018 ┆ 1     ┆ 7   │\n",
       "│ 40010      ┆ Austin-Forest Park ┆ 2018-01-08 ┆ W        ┆ 1773  ┆ 2018 ┆ 1     ┆ 8   │\n",
       "│ 40010      ┆ Austin-Forest Park ┆ 2018-01-09 ┆ W        ┆ 1808  ┆ 2018 ┆ 1     ┆ 9   │\n",
       "│ 40010      ┆ Austin-Forest Park ┆ 2018-01-10 ┆ W        ┆ 1832  ┆ 2018 ┆ 1     ┆ 10  │\n",
       "└────────────┴────────────────────┴────────────┴──────────┴───────┴──────┴───────┴─────┘"
      ]
     },
     "execution_count": 6,
     "metadata": {},
     "output_type": "execute_result"
    }
   ],
   "source": [
    "ridership_df.head(10)"
   ]
  },
  {
   "cell_type": "code",
   "execution_count": 7,
   "metadata": {},
   "outputs": [],
   "source": [
    "# Check that station ID, year, month, and day uniquely identify rows in the dataset \n",
    "primary_key_columns = [\"station_id\", \"year\", \"month\", \"day\"]\n",
    "\n",
    "assert ridership_df.unique(subset=primary_key_columns).height == ridership_df.height, \"Station ID, year, month, and day are not the primary keys.\""
   ]
  },
  {
   "cell_type": "markdown",
   "metadata": {},
   "source": [
    "# Data Visualizations"
   ]
  },
  {
   "cell_type": "markdown",
   "metadata": {},
   "source": [
    "## Yearly Rides"
   ]
  },
  {
   "cell_type": "code",
   "execution_count": 8,
   "metadata": {},
   "outputs": [],
   "source": [
    "ridership_df_year_level = ridership_df.group_by(\n",
    "    'year'\n",
    ").agg(\n",
    "    pl.col('rides').sum() / 1e6\n",
    ").sort(\n",
    "    'year'\n",
    ")"
   ]
  },
  {
   "cell_type": "code",
   "execution_count": 9,
   "metadata": {},
   "outputs": [
    {
     "data": {
      "image/png": "[encoded data removed]"
     },
     "metadata": {},
     "output_type": "display_data"
    }
   ],
   "source": [
    "fig = px.line(\n",
    "    ridership_df_year_level,\n",
    "    x='year',\n",
    "    y='rides',\n",
    "    title='Yearly CTA Ridership, 2018-2024',\n",
    "    labels={\n",
    "        'year': 'Year',\n",
    "        'rides': 'Total Station Entries (Millions)'\n",
    "    }\n",
    ")\n",
    "\n",
    "fig.show()"
   ]
  },
  {
   "cell_type": "markdown",
   "metadata": {},
   "source": [
    "## Ten busiest stations in 2018"
   ]
  },
  {
   "cell_type": "code",
   "execution_count": 10,
   "metadata": {},
   "outputs": [],
   "source": [
    "busiest_stations_2018 = ridership_df.filter(\n",
    "    pl.col('year') == 2018\n",
    ").group_by(\n",
    "    ['station_id', 'station_name']\n",
    ").agg(\n",
    "    total_ridership=pl.sum('rides')\n",
    ").sort(\n",
    "    'total_ridership',\n",
    "    descending=True\n",
    ").with_columns(\n",
    "    total_ridership_millions = pl.col('total_ridership')/1e6\n",
    ").head(10)"
   ]
  },
  {
   "cell_type": "code",
   "execution_count": 11,
   "metadata": {},
   "outputs": [
    {
     "name": "stdout",
     "output_type": "stream",
     "text": [
      "shape: (10, 4)\n",
      "┌────────────┬─────────────────────┬─────────────────┬──────────────────────────┐\n",
      "│ station_id ┆ station_name        ┆ total_ridership ┆ total_ridership_millions │\n",
      "│ ---        ┆ ---                 ┆ ---             ┆ ---                      │\n",
      "│ i64        ┆ str                 ┆ i64             ┆ f64                      │\n",
      "╞════════════╪═════════════════════╪═════════════════╪══════════════════════════╡\n",
      "│ 41660      ┆ Lake/State          ┆ 6604902         ┆ 6.604902                 │\n",
      "│ 40380      ┆ Clark/Lake          ┆ 6048315         ┆ 6.048315                 │\n",
      "│ 41450      ┆ Chicago/State       ┆ 4659252         ┆ 4.659252                 │\n",
      "│ 40370      ┆ Washington/Dearborn ┆ 4031851         ┆ 4.031851                 │\n",
      "│ 40890      ┆ O'Hare Airport      ┆ 3981492         ┆ 3.981492                 │\n",
      "│ 40330      ┆ Grand/State         ┆ 3886450         ┆ 3.88645                  │\n",
      "│ 41320      ┆ Belmont-North Main  ┆ 3813525         ┆ 3.813525                 │\n",
      "│ 40260      ┆ State/Lake          ┆ 3779850         ┆ 3.77985                  │\n",
      "│ 41220      ┆ Fullerton           ┆ 3751316         ┆ 3.751316                 │\n",
      "│ 41400      ┆ Roosevelt           ┆ 3554967         ┆ 3.554967                 │\n",
      "└────────────┴─────────────────────┴─────────────────┴──────────────────────────┘\n"
     ]
    }
   ],
   "source": [
    "print(busiest_stations_2018)"
   ]
  },
  {
   "cell_type": "code",
   "execution_count": 12,
   "metadata": {},
   "outputs": [
    {
     "data": {
      "application/vnd.plotly.v1+json": {
       "config": {
        "plotlyServerURL": "https://plot.ly"
       },
       "data": [
        {
         "hovertemplate": "Total Station Entries (Millions)=%{x}<br>Station Name=%{y}<extra></extra>",
         "legendgroup": "",
         "marker": {
          "color": "#636efa",
          "pattern": {
           "shape": ""
          }
         },
         "name": "",
         "orientation": "h",
         "showlegend": false,
         "textposition": "auto",
         "type": "bar",
         "x": {
          "bdata": "td/aiZJwDEA5sYf2sQIOQOhILv8hPQ5Aw9MrZRmCDkBIUPwYcxcPQPlISnoY2g9ALGFtjJ0gEEBVSs/0EqMSQP2fw3x5MRhA1SMNbmtrGkA=",
          "dtype": "f8"
         },
         "xaxis": "x",
         "y": [
          "Roosevelt",
          "Fullerton",
          "State/Lake",
          "Belmont-North Main",
          "Grand/State",
          "O'Hare Airport",
          "Washington/Dearborn",
          "Chicago/State",
          "Clark/Lake",
          "Lake/State"
         ],
         "yaxis": "y"
        }
       ],
       "layout": {
        "barmode": "relative",
        "legend": {
         "tracegroupgap": 0
        },
        "template": {
         "data": {
          "bar": [
           {
            "error_x": {
             "color": "#2a3f5f"
            },
            "error_y": {
             "color": "#2a3f5f"
            },
            "marker": {
             "line": {
              "color": "#E5ECF6",
              "width": 0.5
             },
             "pattern": {
              "fillmode": "overlay",
              "size": 10,
              "solidity": 0.2
             }
            },
            "type": "bar"
           }
          ],
          "barpolar": [
           {
            "marker": {
             "line": {
              "color": "#E5ECF6",
              "width": 0.5
             },
             "pattern": {
              "fillmode": "overlay",
              "size": 10,
              "solidity": 0.2
             }
            },
            "type": "barpolar"
           }
          ],
          "carpet": [
           {
            "aaxis": {
             "endlinecolor": "#2a3f5f",
             "gridcolor": "white",
             "linecolor": "white",
             "minorgridcolor": "white",
             "startlinecolor": "#2a3f5f"
            },
            "baxis": {
             "endlinecolor": "#2a3f5f",
             "gridcolor": "white",
             "linecolor": "white",
             "minorgridcolor": "white",
             "startlinecolor": "#2a3f5f"
            },
            "type": "carpet"
           }
          ],
          "choropleth": [
           {
            "colorbar": {
             "outlinewidth": 0,
             "ticks": ""
            },
            "type": "choropleth"
           }
          ],
          "contour": [
           {
            "colorbar": {
             "outlinewidth": 0,
             "ticks": ""
            },
            "colorscale": [
             [
              0,
              "#0d0887"
             ],
             [
              0.1111111111111111,
              "#46039f"
             ],
             [
              0.2222222222222222,
              "#7201a8"
             ],
             [
              0.3333333333333333,
              "#9c179e"
             ],
             [
              0.4444444444444444,
              "#bd3786"
             ],
             [
              0.5555555555555556,
              "#d8576b"
             ],
             [
              0.6666666666666666,
              "#ed7953"
             ],
             [
              0.7777777777777778,
              "#fb9f3a"
             ],
             [
              0.8888888888888888,
              "#fdca26"
             ],
             [
              1,
              "#f0f921"
             ]
            ],
            "type": "contour"
           }
          ],
          "contourcarpet": [
           {
            "colorbar": {
             "outlinewidth": 0,
             "ticks": ""
            },
            "type": "contourcarpet"
           }
          ],
          "heatmap": [
           {
            "colorbar": {
             "outlinewidth": 0,
             "ticks": ""
            },
            "colorscale": [
             [
              0,
              "#0d0887"
             ],
             [
              0.1111111111111111,
              "#46039f"
             ],
             [
              0.2222222222222222,
              "#7201a8"
             ],
             [
              0.3333333333333333,
              "#9c179e"
             ],
             [
              0.4444444444444444,
              "#bd3786"
             ],
             [
              0.5555555555555556,
              "#d8576b"
             ],
             [
              0.6666666666666666,
              "#ed7953"
             ],
             [
              0.7777777777777778,
              "#fb9f3a"
             ],
             [
              0.8888888888888888,
              "#fdca26"
             ],
             [
              1,
              "#f0f921"
             ]
            ],
            "type": "heatmap"
           }
          ],
          "histogram": [
           {
            "marker": {
             "pattern": {
              "fillmode": "overlay",
              "size": 10,
              "solidity": 0.2
             }
            },
            "type": "histogram"
           }
          ],
          "histogram2d": [
           {
            "colorbar": {
             "outlinewidth": 0,
             "ticks": ""
            },
            "colorscale": [
             [
              0,
              "#0d0887"
             ],
             [
              0.1111111111111111,
              "#46039f"
             ],
             [
              0.2222222222222222,
              "#7201a8"
             ],
             [
              0.3333333333333333,
              "#9c179e"
             ],
             [
              0.4444444444444444,
              "#bd3786"
             ],
             [
              0.5555555555555556,
              "#d8576b"
             ],
             [
              0.6666666666666666,
              "#ed7953"
             ],
             [
              0.7777777777777778,
              "#fb9f3a"
             ],
             [
              0.8888888888888888,
              "#fdca26"
             ],
             [
              1,
              "#f0f921"
             ]
            ],
            "type": "histogram2d"
           }
          ],
          "histogram2dcontour": [
           {
            "colorbar": {
             "outlinewidth": 0,
             "ticks": ""
            },
            "colorscale": [
             [
              0,
              "#0d0887"
             ],
             [
              0.1111111111111111,
              "#46039f"
             ],
             [
              0.2222222222222222,
              "#7201a8"
             ],
             [
              0.3333333333333333,
              "#9c179e"
             ],
             [
              0.4444444444444444,
              "#bd3786"
             ],
             [
              0.5555555555555556,
              "#d8576b"
             ],
             [
              0.6666666666666666,
              "#ed7953"
             ],
             [
              0.7777777777777778,
              "#fb9f3a"
             ],
             [
              0.8888888888888888,
              "#fdca26"
             ],
             [
              1,
              "#f0f921"
             ]
            ],
            "type": "histogram2dcontour"
           }
          ],
          "mesh3d": [
           {
            "colorbar": {
             "outlinewidth": 0,
             "ticks": ""
            },
            "type": "mesh3d"
           }
          ],
          "parcoords": [
           {
            "line": {
             "colorbar": {
              "outlinewidth": 0,
              "ticks": ""
             }
            },
            "type": "parcoords"
           }
          ],
          "pie": [
           {
            "automargin": true,
            "type": "pie"
           }
          ],
          "scatter": [
           {
            "fillpattern": {
             "fillmode": "overlay",
             "size": 10,
             "solidity": 0.2
            },
            "type": "scatter"
           }
          ],
          "scatter3d": [
           {
            "line": {
             "colorbar": {
              "outlinewidth": 0,
              "ticks": ""
             }
            },
            "marker": {
             "colorbar": {
              "outlinewidth": 0,
              "ticks": ""
             }
            },
            "type": "scatter3d"
           }
          ],
          "scattercarpet": [
           {
            "marker": {
             "colorbar": {
              "outlinewidth": 0,
              "ticks": ""
             }
            },
            "type": "scattercarpet"
           }
          ],
          "scattergeo": [
           {
            "marker": {
             "colorbar": {
              "outlinewidth": 0,
              "ticks": ""
             }
            },
            "type": "scattergeo"
           }
          ],
          "scattergl": [
           {
            "marker": {
             "colorbar": {
              "outlinewidth": 0,
              "ticks": ""
             }
            },
            "type": "scattergl"
           }
          ],
          "scattermap": [
           {
            "marker": {
             "colorbar": {
              "outlinewidth": 0,
              "ticks": ""
             }
            },
            "type": "scattermap"
           }
          ],
          "scattermapbox": [
           {
            "marker": {
             "colorbar": {
              "outlinewidth": 0,
              "ticks": ""
             }
            },
            "type": "scattermapbox"
           }
          ],
          "scatterpolar": [
           {
            "marker": {
             "colorbar": {
              "outlinewidth": 0,
              "ticks": ""
             }
            },
            "type": "scatterpolar"
           }
          ],
          "scatterpolargl": [
           {
            "marker": {
             "colorbar": {
              "outlinewidth": 0,
              "ticks": ""
             }
            },
            "type": "scatterpolargl"
           }
          ],
          "scatterternary": [
           {
            "marker": {
             "colorbar": {
              "outlinewidth": 0,
              "ticks": ""
             }
            },
            "type": "scatterternary"
           }
          ],
          "surface": [
           {
            "colorbar": {
             "outlinewidth": 0,
             "ticks": ""
            },
            "colorscale": [
             [
              0,
              "#0d0887"
             ],
             [
              0.1111111111111111,
              "#46039f"
             ],
             [
              0.2222222222222222,
              "#7201a8"
             ],
             [
              0.3333333333333333,
              "#9c179e"
             ],
             [
              0.4444444444444444,
              "#bd3786"
             ],
             [
              0.5555555555555556,
              "#d8576b"
             ],
             [
              0.6666666666666666,
              "#ed7953"
             ],
             [
              0.7777777777777778,
              "#fb9f3a"
             ],
             [
              0.8888888888888888,
              "#fdca26"
             ],
             [
              1,
              "#f0f921"
             ]
            ],
            "type": "surface"
           }
          ],
          "table": [
           {
            "cells": {
             "fill": {
              "color": "#EBF0F8"
             },
             "line": {
              "color": "white"
             }
            },
            "header": {
             "fill": {
              "color": "#C8D4E3"
             },
             "line": {
              "color": "white"
             }
            },
            "type": "table"
           }
          ]
         },
         "layout": {
          "annotationdefaults": {
           "arrowcolor": "#2a3f5f",
           "arrowhead": 0,
           "arrowwidth": 1
          },
          "autotypenumbers": "strict",
          "coloraxis": {
           "colorbar": {
            "outlinewidth": 0,
            "ticks": ""
           }
          },
          "colorscale": {
           "diverging": [
            [
             0,
             "#8e0152"
            ],
            [
             0.1,
             "#c51b7d"
            ],
            [
             0.2,
             "#de77ae"
            ],
            [
             0.3,
             "#f1b6da"
            ],
            [
             0.4,
             "#fde0ef"
            ],
            [
             0.5,
             "#f7f7f7"
            ],
            [
             0.6,
             "#e6f5d0"
            ],
            [
             0.7,
             "#b8e186"
            ],
            [
             0.8,
             "#7fbc41"
            ],
            [
             0.9,
             "#4d9221"
            ],
            [
             1,
             "#276419"
            ]
           ],
           "sequential": [
            [
             0,
             "#0d0887"
            ],
            [
             0.1111111111111111,
             "#46039f"
            ],
            [
             0.2222222222222222,
             "#7201a8"
            ],
            [
             0.3333333333333333,
             "#9c179e"
            ],
            [
             0.4444444444444444,
             "#bd3786"
            ],
            [
             0.5555555555555556,
             "#d8576b"
            ],
            [
             0.6666666666666666,
             "#ed7953"
            ],
            [
             0.7777777777777778,
             "#fb9f3a"
            ],
            [
             0.8888888888888888,
             "#fdca26"
            ],
            [
             1,
             "#f0f921"
            ]
           ],
           "sequentialminus": [
            [
             0,
             "#0d0887"
            ],
            [
             0.1111111111111111,
             "#46039f"
            ],
            [
             0.2222222222222222,
             "#7201a8"
            ],
            [
             0.3333333333333333,
             "#9c179e"
            ],
            [
             0.4444444444444444,
             "#bd3786"
            ],
            [
             0.5555555555555556,
             "#d8576b"
            ],
            [
             0.6666666666666666,
             "#ed7953"
            ],
            [
             0.7777777777777778,
             "#fb9f3a"
            ],
            [
             0.8888888888888888,
             "#fdca26"
            ],
            [
             1,
             "#f0f921"
            ]
           ]
          },
          "colorway": [
           "#636efa",
           "#EF553B",
           "#00cc96",
           "#ab63fa",
           "#FFA15A",
           "#19d3f3",
           "#FF6692",
           "#B6E880",
           "#FF97FF",
           "#FECB52"
          ],
          "font": {
           "color": "#2a3f5f"
          },
          "geo": {
           "bgcolor": "white",
           "lakecolor": "white",
           "landcolor": "#E5ECF6",
           "showlakes": true,
           "showland": true,
           "subunitcolor": "white"
          },
          "hoverlabel": {
           "align": "left"
          },
          "hovermode": "closest",
          "mapbox": {
           "style": "light"
          },
          "paper_bgcolor": "white",
          "plot_bgcolor": "#E5ECF6",
          "polar": {
           "angularaxis": {
            "gridcolor": "white",
            "linecolor": "white",
            "ticks": ""
           },
           "bgcolor": "#E5ECF6",
           "radialaxis": {
            "gridcolor": "white",
            "linecolor": "white",
            "ticks": ""
           }
          },
          "scene": {
           "xaxis": {
            "backgroundcolor": "#E5ECF6",
            "gridcolor": "white",
            "gridwidth": 2,
            "linecolor": "white",
            "showbackground": true,
            "ticks": "",
            "zerolinecolor": "white"
           },
           "yaxis": {
            "backgroundcolor": "#E5ECF6",
            "gridcolor": "white",
            "gridwidth": 2,
            "linecolor": "white",
            "showbackground": true,
            "ticks": "",
            "zerolinecolor": "white"
           },
           "zaxis": {
            "backgroundcolor": "#E5ECF6",
            "gridcolor": "white",
            "gridwidth": 2,
            "linecolor": "white",
            "showbackground": true,
            "ticks": "",
            "zerolinecolor": "white"
           }
          },
          "shapedefaults": {
           "line": {
            "color": "#2a3f5f"
           }
          },
          "ternary": {
           "aaxis": {
            "gridcolor": "white",
            "linecolor": "white",
            "ticks": ""
           },
           "baxis": {
            "gridcolor": "white",
            "linecolor": "white",
            "ticks": ""
           },
           "bgcolor": "#E5ECF6",
           "caxis": {
            "gridcolor": "white",
            "linecolor": "white",
            "ticks": ""
           }
          },
          "title": {
           "x": 0.05
          },
          "xaxis": {
           "automargin": true,
           "gridcolor": "white",
           "linecolor": "white",
           "ticks": "",
           "title": {
            "standoff": 15
           },
           "zerolinecolor": "white",
           "zerolinewidth": 2
          },
          "yaxis": {
           "automargin": true,
           "gridcolor": "white",
           "linecolor": "white",
           "ticks": "",
           "title": {
            "standoff": 15
           },
           "zerolinecolor": "white",
           "zerolinewidth": 2
          }
         }
        },
        "title": {
         "text": "Ten Busiest CTA Rail Stations by Entries, 2018"
        },
        "xaxis": {
         "anchor": "y",
         "domain": [
          0,
          1
         ],
         "title": {
          "text": "Total Station Entries (Millions)"
         }
        },
        "yaxis": {
         "anchor": "x",
         "domain": [
          0,
          1
         ],
         "title": {
          "text": "Station Name"
         }
        }
       }
      }
     },
     "metadata": {},
     "output_type": "display_data"
    }
   ],
   "source": [
    "fig = px.bar(\n",
    "    busiest_stations_2018.sort('total_ridership_millions', descending=False),\n",
    "    x='total_ridership_millions',\n",
    "    y='station_name',\n",
    "    orientation='h',\n",
    "    title='Ten Busiest CTA Rail Stations by Entries, 2018',\n",
    "    labels={\n",
    "        'total_ridership_millions': 'Total Station Entries (Millions)',\n",
    "        'station_name': 'Station Name'\n",
    "    }\n",
    ")\n",
    "\n",
    "fig.show()"
   ]
  }
 ],
 "metadata": {
  "kernelspec": {
   "display_name": "Python 3",
   "language": "python",
   "name": "python3"
  },
  "language_info": {
   "codemirror_mode": {
    "name": "ipython",
    "version": 3
   },
   "file_extension": ".py",
   "mimetype": "text/x-python",
   "name": "python",
   "nbconvert_exporter": "python",
   "pygments_lexer": "ipython3",
   "version": "3.9.13"
  }
 },
 "nbformat": 4,
 "nbformat_minor": 2
}
